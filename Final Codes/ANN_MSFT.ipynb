{
 "cells": [
  {
   "cell_type": "code",
   "execution_count": 1,
   "metadata": {},
   "outputs": [],
   "source": [
    "# Importing the libraries\n",
    "import numpy as np\n",
    "import matplotlib.pyplot as plt\n",
    "import pandas as pd\n",
    "import datetime"
   ]
  },
  {
   "cell_type": "code",
   "execution_count": 2,
   "metadata": {},
   "outputs": [],
   "source": [
    "dataset = pd.read_csv('MSFT.csv',index_col=\"Date\",parse_dates=True)"
   ]
  },
  {
   "cell_type": "code",
   "execution_count": 3,
   "metadata": {},
   "outputs": [
    {
     "data": {
      "text/html": [
       "<div>\n",
       "<style scoped>\n",
       "    .dataframe tbody tr th:only-of-type {\n",
       "        vertical-align: middle;\n",
       "    }\n",
       "\n",
       "    .dataframe tbody tr th {\n",
       "        vertical-align: top;\n",
       "    }\n",
       "\n",
       "    .dataframe thead th {\n",
       "        text-align: right;\n",
       "    }\n",
       "</style>\n",
       "<table border=\"1\" class=\"dataframe\">\n",
       "  <thead>\n",
       "    <tr style=\"text-align: right;\">\n",
       "      <th></th>\n",
       "      <th>Open</th>\n",
       "      <th>High</th>\n",
       "      <th>Low</th>\n",
       "      <th>Close</th>\n",
       "      <th>Volume</th>\n",
       "    </tr>\n",
       "    <tr>\n",
       "      <th>Date</th>\n",
       "      <th></th>\n",
       "      <th></th>\n",
       "      <th></th>\n",
       "      <th></th>\n",
       "      <th></th>\n",
       "    </tr>\n",
       "  </thead>\n",
       "  <tbody>\n",
       "    <tr>\n",
       "      <th>1986-03-13</th>\n",
       "      <td>0.056514</td>\n",
       "      <td>0.064825</td>\n",
       "      <td>0.056514</td>\n",
       "      <td>0.062055</td>\n",
       "      <td>1031788800</td>\n",
       "    </tr>\n",
       "    <tr>\n",
       "      <th>1986-03-14</th>\n",
       "      <td>0.062055</td>\n",
       "      <td>0.065379</td>\n",
       "      <td>0.062055</td>\n",
       "      <td>0.064271</td>\n",
       "      <td>308160000</td>\n",
       "    </tr>\n",
       "    <tr>\n",
       "      <th>1986-03-17</th>\n",
       "      <td>0.064271</td>\n",
       "      <td>0.065933</td>\n",
       "      <td>0.064271</td>\n",
       "      <td>0.065379</td>\n",
       "      <td>133171200</td>\n",
       "    </tr>\n",
       "    <tr>\n",
       "      <th>1986-03-18</th>\n",
       "      <td>0.065379</td>\n",
       "      <td>0.065933</td>\n",
       "      <td>0.063163</td>\n",
       "      <td>0.063717</td>\n",
       "      <td>67766400</td>\n",
       "    </tr>\n",
       "    <tr>\n",
       "      <th>1986-03-19</th>\n",
       "      <td>0.063717</td>\n",
       "      <td>0.064271</td>\n",
       "      <td>0.062055</td>\n",
       "      <td>0.062609</td>\n",
       "      <td>47894400</td>\n",
       "    </tr>\n",
       "  </tbody>\n",
       "</table>\n",
       "</div>"
      ],
      "text/plain": [
       "                Open      High       Low     Close      Volume\n",
       "Date                                                          \n",
       "1986-03-13  0.056514  0.064825  0.056514  0.062055  1031788800\n",
       "1986-03-14  0.062055  0.065379  0.062055  0.064271   308160000\n",
       "1986-03-17  0.064271  0.065933  0.064271  0.065379   133171200\n",
       "1986-03-18  0.065379  0.065933  0.063163  0.063717    67766400\n",
       "1986-03-19  0.063717  0.064271  0.062055  0.062609    47894400"
      ]
     },
     "execution_count": 3,
     "metadata": {},
     "output_type": "execute_result"
    }
   ],
   "source": [
    "dataset.head()\n"
   ]
  },
  {
   "cell_type": "code",
   "execution_count": 4,
   "metadata": {},
   "outputs": [
    {
     "data": {
      "text/plain": [
       "Open      False\n",
       "High      False\n",
       "Low       False\n",
       "Close     False\n",
       "Volume    False\n",
       "dtype: bool"
      ]
     },
     "execution_count": 4,
     "metadata": {},
     "output_type": "execute_result"
    }
   ],
   "source": [
    "dataset.isna().any()"
   ]
  },
  {
   "cell_type": "code",
   "execution_count": 5,
   "metadata": {},
   "outputs": [
    {
     "name": "stdout",
     "output_type": "stream",
     "text": [
      "<class 'pandas.core.frame.DataFrame'>\n",
      "DatetimeIndex: 8713 entries, 1986-03-13 to 2020-10-05\n",
      "Data columns (total 5 columns):\n",
      " #   Column  Non-Null Count  Dtype  \n",
      "---  ------  --------------  -----  \n",
      " 0   Open    8713 non-null   float64\n",
      " 1   High    8713 non-null   float64\n",
      " 2   Low     8713 non-null   float64\n",
      " 3   Close   8713 non-null   float64\n",
      " 4   Volume  8713 non-null   int64  \n",
      "dtypes: float64(4), int64(1)\n",
      "memory usage: 408.4 KB\n"
     ]
    }
   ],
   "source": [
    "dataset.info()"
   ]
  },
  {
   "cell_type": "code",
   "execution_count": 6,
   "metadata": {},
   "outputs": [
    {
     "data": {
      "text/plain": [
       "<matplotlib.axes._subplots.AxesSubplot at 0x210d123bb38>"
      ]
     },
     "execution_count": 6,
     "metadata": {},
     "output_type": "execute_result"
    },
    {
     "data": {
      "image/png": "[encoded data removed]",
      "text/plain": [
       "<Figure size 1152x432 with 1 Axes>"
      ]
     },
     "metadata": {
      "needs_background": "light"
     },
     "output_type": "display_data"
    }
   ],
   "source": [
    "dataset['Open'].plot(figsize=(16,6))"
   ]
  },
  {
   "cell_type": "code",
   "execution_count": 7,
   "metadata": {},
   "outputs": [
    {
     "data": {
      "text/html": [
       "<div>\n",
       "<style scoped>\n",
       "    .dataframe tbody tr th:only-of-type {\n",
       "        vertical-align: middle;\n",
       "    }\n",
       "\n",
       "    .dataframe tbody tr th {\n",
       "        vertical-align: top;\n",
       "    }\n",
       "\n",
       "    .dataframe thead th {\n",
       "        text-align: right;\n",
       "    }\n",
       "</style>\n",
       "<table border=\"1\" class=\"dataframe\">\n",
       "  <thead>\n",
       "    <tr style=\"text-align: right;\">\n",
       "      <th></th>\n",
       "      <th>Open</th>\n",
       "      <th>High</th>\n",
       "      <th>Low</th>\n",
       "      <th>Close</th>\n",
       "      <th>Volume</th>\n",
       "    </tr>\n",
       "    <tr>\n",
       "      <th>Date</th>\n",
       "      <th></th>\n",
       "      <th></th>\n",
       "      <th></th>\n",
       "      <th></th>\n",
       "      <th></th>\n",
       "    </tr>\n",
       "  </thead>\n",
       "  <tbody>\n",
       "    <tr>\n",
       "      <th>1986-03-13</th>\n",
       "      <td>NaN</td>\n",
       "      <td>NaN</td>\n",
       "      <td>NaN</td>\n",
       "      <td>NaN</td>\n",
       "      <td>NaN</td>\n",
       "    </tr>\n",
       "    <tr>\n",
       "      <th>1986-03-14</th>\n",
       "      <td>NaN</td>\n",
       "      <td>NaN</td>\n",
       "      <td>NaN</td>\n",
       "      <td>NaN</td>\n",
       "      <td>NaN</td>\n",
       "    </tr>\n",
       "    <tr>\n",
       "      <th>1986-03-17</th>\n",
       "      <td>NaN</td>\n",
       "      <td>NaN</td>\n",
       "      <td>NaN</td>\n",
       "      <td>NaN</td>\n",
       "      <td>NaN</td>\n",
       "    </tr>\n",
       "    <tr>\n",
       "      <th>1986-03-18</th>\n",
       "      <td>NaN</td>\n",
       "      <td>NaN</td>\n",
       "      <td>NaN</td>\n",
       "      <td>NaN</td>\n",
       "      <td>NaN</td>\n",
       "    </tr>\n",
       "    <tr>\n",
       "      <th>1986-03-19</th>\n",
       "      <td>NaN</td>\n",
       "      <td>NaN</td>\n",
       "      <td>NaN</td>\n",
       "      <td>NaN</td>\n",
       "      <td>NaN</td>\n",
       "    </tr>\n",
       "    <tr>\n",
       "      <th>1986-03-20</th>\n",
       "      <td>NaN</td>\n",
       "      <td>NaN</td>\n",
       "      <td>NaN</td>\n",
       "      <td>NaN</td>\n",
       "      <td>NaN</td>\n",
       "    </tr>\n",
       "    <tr>\n",
       "      <th>1986-03-21</th>\n",
       "      <td>0.062213</td>\n",
       "      <td>0.064430</td>\n",
       "      <td>0.060947</td>\n",
       "      <td>0.062609</td>\n",
       "      <td>2.438866e+08</td>\n",
       "    </tr>\n",
       "    <tr>\n",
       "      <th>1986-03-24</th>\n",
       "      <td>0.062609</td>\n",
       "      <td>0.063638</td>\n",
       "      <td>0.061026</td>\n",
       "      <td>0.061976</td>\n",
       "      <td>1.058153e+08</td>\n",
       "    </tr>\n",
       "    <tr>\n",
       "      <th>1986-03-25</th>\n",
       "      <td>0.061976</td>\n",
       "      <td>0.062688</td>\n",
       "      <td>0.060314</td>\n",
       "      <td>0.061184</td>\n",
       "      <td>6.637577e+07</td>\n",
       "    </tr>\n",
       "    <tr>\n",
       "      <th>1986-03-26</th>\n",
       "      <td>0.061184</td>\n",
       "      <td>0.061976</td>\n",
       "      <td>0.059443</td>\n",
       "      <td>0.060472</td>\n",
       "      <td>5.060160e+07</td>\n",
       "    </tr>\n",
       "    <tr>\n",
       "      <th>1986-03-27</th>\n",
       "      <td>0.060472</td>\n",
       "      <td>0.061343</td>\n",
       "      <td>0.059047</td>\n",
       "      <td>0.060155</td>\n",
       "      <td>4.332754e+07</td>\n",
       "    </tr>\n",
       "    <tr>\n",
       "      <th>1986-03-31</th>\n",
       "      <td>0.060155</td>\n",
       "      <td>0.060947</td>\n",
       "      <td>0.058731</td>\n",
       "      <td>0.059918</td>\n",
       "      <td>3.832457e+07</td>\n",
       "    </tr>\n",
       "    <tr>\n",
       "      <th>1986-04-01</th>\n",
       "      <td>0.059918</td>\n",
       "      <td>0.060709</td>\n",
       "      <td>0.058731</td>\n",
       "      <td>0.059839</td>\n",
       "      <td>3.156069e+07</td>\n",
       "    </tr>\n",
       "    <tr>\n",
       "      <th>1986-04-02</th>\n",
       "      <td>0.059839</td>\n",
       "      <td>0.060709</td>\n",
       "      <td>0.059047</td>\n",
       "      <td>0.060076</td>\n",
       "      <td>2.684983e+07</td>\n",
       "    </tr>\n",
       "    <tr>\n",
       "      <th>1986-04-03</th>\n",
       "      <td>0.060155</td>\n",
       "      <td>0.061263</td>\n",
       "      <td>0.059680</td>\n",
       "      <td>0.060630</td>\n",
       "      <td>2.081417e+07</td>\n",
       "    </tr>\n",
       "    <tr>\n",
       "      <th>1986-04-04</th>\n",
       "      <td>0.060709</td>\n",
       "      <td>0.061738</td>\n",
       "      <td>0.060314</td>\n",
       "      <td>0.061026</td>\n",
       "      <td>2.002834e+07</td>\n",
       "    </tr>\n",
       "    <tr>\n",
       "      <th>1986-04-07</th>\n",
       "      <td>0.061105</td>\n",
       "      <td>0.061897</td>\n",
       "      <td>0.060472</td>\n",
       "      <td>0.061026</td>\n",
       "      <td>1.914377e+07</td>\n",
       "    </tr>\n",
       "    <tr>\n",
       "      <th>1986-04-08</th>\n",
       "      <td>0.061105</td>\n",
       "      <td>0.061976</td>\n",
       "      <td>0.060472</td>\n",
       "      <td>0.060947</td>\n",
       "      <td>1.820160e+07</td>\n",
       "    </tr>\n",
       "    <tr>\n",
       "      <th>1986-04-09</th>\n",
       "      <td>0.061026</td>\n",
       "      <td>0.062134</td>\n",
       "      <td>0.060630</td>\n",
       "      <td>0.061105</td>\n",
       "      <td>1.809874e+07</td>\n",
       "    </tr>\n",
       "    <tr>\n",
       "      <th>1986-04-10</th>\n",
       "      <td>0.061184</td>\n",
       "      <td>0.062451</td>\n",
       "      <td>0.060709</td>\n",
       "      <td>0.061422</td>\n",
       "      <td>1.849783e+07</td>\n",
       "    </tr>\n",
       "  </tbody>\n",
       "</table>\n",
       "</div>"
      ],
      "text/plain": [
       "                Open      High       Low     Close        Volume\n",
       "Date                                                            \n",
       "1986-03-13       NaN       NaN       NaN       NaN           NaN\n",
       "1986-03-14       NaN       NaN       NaN       NaN           NaN\n",
       "1986-03-17       NaN       NaN       NaN       NaN           NaN\n",
       "1986-03-18       NaN       NaN       NaN       NaN           NaN\n",
       "1986-03-19       NaN       NaN       NaN       NaN           NaN\n",
       "1986-03-20       NaN       NaN       NaN       NaN           NaN\n",
       "1986-03-21  0.062213  0.064430  0.060947  0.062609  2.438866e+08\n",
       "1986-03-24  0.062609  0.063638  0.061026  0.061976  1.058153e+08\n",
       "1986-03-25  0.061976  0.062688  0.060314  0.061184  6.637577e+07\n",
       "1986-03-26  0.061184  0.061976  0.059443  0.060472  5.060160e+07\n",
       "1986-03-27  0.060472  0.061343  0.059047  0.060155  4.332754e+07\n",
       "1986-03-31  0.060155  0.060947  0.058731  0.059918  3.832457e+07\n",
       "1986-04-01  0.059918  0.060709  0.058731  0.059839  3.156069e+07\n",
       "1986-04-02  0.059839  0.060709  0.059047  0.060076  2.684983e+07\n",
       "1986-04-03  0.060155  0.061263  0.059680  0.060630  2.081417e+07\n",
       "1986-04-04  0.060709  0.061738  0.060314  0.061026  2.002834e+07\n",
       "1986-04-07  0.061105  0.061897  0.060472  0.061026  1.914377e+07\n",
       "1986-04-08  0.061105  0.061976  0.060472  0.060947  1.820160e+07\n",
       "1986-04-09  0.061026  0.062134  0.060630  0.061105  1.809874e+07\n",
       "1986-04-10  0.061184  0.062451  0.060709  0.061422  1.849783e+07"
      ]
     },
     "execution_count": 7,
     "metadata": {},
     "output_type": "execute_result"
    }
   ],
   "source": [
    "# 7 day rolling mean\n",
    "dataset.rolling(7).mean().head(20)"
   ]
  },
  {
   "cell_type": "code",
   "execution_count": 8,
   "metadata": {},
   "outputs": [
    {
     "data": {
      "text/plain": [
       "<matplotlib.axes._subplots.AxesSubplot at 0x210d35b0c18>"
      ]
     },
     "execution_count": 8,
     "metadata": {},
     "output_type": "execute_result"
    },
    {
     "data": {
      "image/png": "[encoded data removed]",
      "text/plain": [
       "<Figure size 1152x432 with 1 Axes>"
      ]
     },
     "metadata": {
      "needs_background": "light"
     },
     "output_type": "display_data"
    }
   ],
   "source": [
    "dataset['Open'].plot(figsize=(16,6))\n",
    "dataset.rolling(window=30).mean()['Close'].plot()"
   ]
  },
  {
   "cell_type": "code",
   "execution_count": 9,
   "metadata": {},
   "outputs": [
    {
     "data": {
      "text/plain": [
       "<matplotlib.axes._subplots.AxesSubplot at 0x210d34b5208>"
      ]
     },
     "execution_count": 9,
     "metadata": {},
     "output_type": "execute_result"
    },
    {
     "data": {
      "image/png": "[encoded data removed]",
      "text/plain": [
       "<Figure size 1152x432 with 1 Axes>"
      ]
     },
     "metadata": {
      "needs_background": "light"
     },
     "output_type": "display_data"
    }
   ],
   "source": [
    "dataset['Close: 30 Day Mean'] = dataset['Close'].rolling(window=30).mean()\n",
    "dataset[['Close','Close: 30 Day Mean']].plot(figsize=(16,6))"
   ]
  },
  {
   "cell_type": "code",
   "execution_count": 10,
   "metadata": {},
   "outputs": [
    {
     "data": {
      "text/plain": [
       "pandas.core.series.Series"
      ]
     },
     "execution_count": 10,
     "metadata": {},
     "output_type": "execute_result"
    }
   ],
   "source": [
    "training_set=dataset['Open']\n",
    "type(training_set)"
   ]
  },
  {
   "cell_type": "code",
   "execution_count": 11,
   "metadata": {},
   "outputs": [
    {
     "name": "stdout",
     "output_type": "stream",
     "text": [
      "<class 'pandas.core.frame.DataFrame'>\n",
      "DatetimeIndex: 6970 entries, 1986-03-13 to 2013-10-31\n",
      "Data columns (total 1 columns):\n",
      " #   Column  Non-Null Count  Dtype  \n",
      "---  ------  --------------  -----  \n",
      " 0   Open    6970 non-null   float64\n",
      "dtypes: float64(1)\n",
      "memory usage: 108.9 KB\n"
     ]
    }
   ],
   "source": [
    "training_set= training_set[:int(len(training_set)*(4/5))]\n",
    "training_set=pd.DataFrame(training_set)\n",
    "type(training_set)\n",
    "training_set.info()"
   ]
  },
  {
   "cell_type": "code",
   "execution_count": 12,
   "metadata": {},
   "outputs": [],
   "source": [
    "# Feature Scaling\n",
    "from sklearn.preprocessing import MinMaxScaler\n",
    "sc = MinMaxScaler(feature_range = (0, 1))\n",
    "training_set_scaled = sc.fit_transform(training_set)"
   ]
  },
  {
   "cell_type": "code",
   "execution_count": 13,
   "metadata": {},
   "outputs": [],
   "source": [
    "# Creating a data structure with 60 timesteps and 1 output\n",
    "X_train = []\n",
    "y_train = []\n",
    "for i in range(60, len(training_set_scaled)):\n",
    "    X_train.append(training_set_scaled[i-60:i, 0])\n",
    "    y_train.append(training_set_scaled[i, 0])\n",
    "X_train, y_train = np.array(X_train), np.array(y_train)\n",
    "\n",
    "# Reshaping\n",
    "X_train = np.reshape(X_train, (X_train.shape[0], X_train.shape[1], 1))"
   ]
  },
  {
   "cell_type": "code",
   "execution_count": 14,
   "metadata": {},
   "outputs": [
    {
     "name": "stderr",
     "output_type": "stream",
     "text": [
      "Using TensorFlow backend.\n"
     ]
    }
   ],
   "source": [
    "# Part 2 - Building the RNN\n",
    "\n",
    "# Importing the Keras libraries and packages\n",
    "from keras.models import Sequential\n",
    "from keras.layers import Dense\n",
    "from keras.layers import LSTM\n",
    "from keras.layers import Dropout"
   ]
  },
  {
   "cell_type": "code",
   "execution_count": 15,
   "metadata": {},
   "outputs": [],
   "source": [
    "# Initialising the RNN\n",
    "regressor = Sequential()"
   ]
  },
  {
   "cell_type": "code",
   "execution_count": 16,
   "metadata": {
    "scrolled": false
   },
   "outputs": [],
   "source": [
    "# Adding the first LSTM layer and some Dropout regularisation\n",
    "regressor.add(LSTM(units = 50, return_sequences = True, input_shape = (X_train.shape[1], 1)))\n",
    "regressor.add(Dropout(0.2))\n",
    "\n",
    "# Adding a second LSTM layer and some Dropout regularisation\n",
    "regressor.add(LSTM(units = 50, return_sequences = True))\n",
    "regressor.add(Dropout(0.2))\n",
    "\n",
    "# Adding a third LSTM layer and some Dropout regularisation\n",
    "regressor.add(LSTM(units = 50, return_sequences = True))\n",
    "regressor.add(Dropout(0.2))\n",
    "\n",
    "# Adding a fourth LSTM layer and some Dropout regularisation\n",
    "regressor.add(LSTM(units = 50))\n",
    "regressor.add(Dropout(0.2))\n",
    "\n",
    "# Adding the output layer\n",
    "regressor.add(Dense(units = 1))\n",
    "\n"
   ]
  },
  {
   "cell_type": "code",
   "execution_count": 17,
   "metadata": {},
   "outputs": [
    {
     "name": "stdout",
     "output_type": "stream",
     "text": [
      "Epoch 1/100\n",
      "6910/6910 [==============================] - 21s 3ms/step - loss: 0.0058\n",
      "Epoch 2/100\n",
      "6910/6910 [==============================] - 23s 3ms/step - loss: 0.0024\n",
      "Epoch 3/100\n",
      "6910/6910 [==============================] - 25s 4ms/step - loss: 0.0021\n",
      "Epoch 4/100\n",
      "6910/6910 [==============================] - 23s 3ms/step - loss: 0.0017\n",
      "Epoch 5/100\n",
      "6910/6910 [==============================] - 24s 3ms/step - loss: 0.0017\n",
      "Epoch 6/100\n",
      "6910/6910 [==============================] - 25s 4ms/step - loss: 0.0015\n",
      "Epoch 7/100\n",
      "6910/6910 [==============================] - 23s 3ms/step - loss: 0.0013\n",
      "Epoch 8/100\n",
      "6910/6910 [==============================] - 25s 4ms/step - loss: 0.0013\n",
      "Epoch 9/100\n",
      "6910/6910 [==============================] - 24s 3ms/step - loss: 0.0012\n",
      "Epoch 10/100\n",
      "6910/6910 [==============================] - 24s 3ms/step - loss: 0.0011\n",
      "Epoch 11/100\n",
      "6910/6910 [==============================] - 26s 4ms/step - loss: 0.0011\n",
      "Epoch 12/100\n",
      "6910/6910 [==============================] - 23s 3ms/step - loss: 0.0011\n",
      "Epoch 13/100\n",
      "6910/6910 [==============================] - 26s 4ms/step - loss: 0.0010\n",
      "Epoch 14/100\n",
      "6910/6910 [==============================] - 24s 3ms/step - loss: 0.0010\n",
      "Epoch 15/100\n",
      "6910/6910 [==============================] - 24s 3ms/step - loss: 9.7497e-04\n",
      "Epoch 16/100\n",
      "6910/6910 [==============================] - 25s 4ms/step - loss: 9.1987e-04\n",
      "Epoch 17/100\n",
      "6910/6910 [==============================] - 23s 3ms/step - loss: 8.5998e-04\n",
      "Epoch 18/100\n",
      "6910/6910 [==============================] - 25s 4ms/step - loss: 9.3314e-04\n",
      "Epoch 19/100\n",
      "6910/6910 [==============================] - 24s 3ms/step - loss: 8.4412e-04\n",
      "Epoch 20/100\n",
      "6910/6910 [==============================] - 24s 4ms/step - loss: 8.6832e-04\n",
      "Epoch 21/100\n",
      "6910/6910 [==============================] - 24s 4ms/step - loss: 8.4240e-04\n",
      "Epoch 22/100\n",
      "6910/6910 [==============================] - 24s 3ms/step - loss: 8.1051e-04\n",
      "Epoch 23/100\n",
      "6910/6910 [==============================] - 25s 4ms/step - loss: 7.8879e-04\n",
      "Epoch 24/100\n",
      "6910/6910 [==============================] - 27s 4ms/step - loss: 8.2785e-04\n",
      "Epoch 25/100\n",
      "6910/6910 [==============================] - 50s 7ms/step - loss: 7.8986e-04\n",
      "Epoch 26/100\n",
      "6910/6910 [==============================] - 51s 7ms/step - loss: 7.4650e-04\n",
      "Epoch 27/100\n",
      "6910/6910 [==============================] - 52s 7ms/step - loss: 7.4376e-04\n",
      "Epoch 28/100\n",
      "6910/6910 [==============================] - 51s 7ms/step - loss: 7.5708e-04\n",
      "Epoch 29/100\n",
      "6910/6910 [==============================] - 51s 7ms/step - loss: 7.6311e-04\n",
      "Epoch 30/100\n",
      "6910/6910 [==============================] - 51s 7ms/step - loss: 7.3395e-04\n",
      "Epoch 31/100\n",
      "6910/6910 [==============================] - 51s 7ms/step - loss: 6.9801e-04\n",
      "Epoch 32/100\n",
      "6910/6910 [==============================] - 51s 7ms/step - loss: 7.4588e-04\n",
      "Epoch 33/100\n",
      "6910/6910 [==============================] - 51s 7ms/step - loss: 7.2526e-04\n",
      "Epoch 34/100\n",
      "6910/6910 [==============================] - 51s 7ms/step - loss: 6.9594e-04\n",
      "Epoch 35/100\n",
      "6910/6910 [==============================] - 51s 7ms/step - loss: 7.0984e-04\n",
      "Epoch 36/100\n",
      "6910/6910 [==============================] - 51s 7ms/step - loss: 6.8248e-04\n",
      "Epoch 37/100\n",
      "6910/6910 [==============================] - 50s 7ms/step - loss: 7.0899e-04\n",
      "Epoch 38/100\n",
      "6910/6910 [==============================] - 52s 7ms/step - loss: 6.9030e-04\n",
      "Epoch 39/100\n",
      "6910/6910 [==============================] - 52s 7ms/step - loss: 6.7668e-04\n",
      "Epoch 40/100\n",
      "6910/6910 [==============================] - 51s 7ms/step - loss: 7.0007e-04\n",
      "Epoch 41/100\n",
      "6910/6910 [==============================] - 52s 7ms/step - loss: 6.4712e-04\n",
      "Epoch 42/100\n",
      "6910/6910 [==============================] - 52s 7ms/step - loss: 6.9426e-04\n",
      "Epoch 43/100\n",
      "6910/6910 [==============================] - 52s 7ms/step - loss: 7.2040e-04\n",
      "Epoch 44/100\n",
      "6910/6910 [==============================] - 52s 7ms/step - loss: 6.6507e-04\n",
      "Epoch 45/100\n",
      "6910/6910 [==============================] - 52s 7ms/step - loss: 7.0698e-04\n",
      "Epoch 46/100\n",
      "6910/6910 [==============================] - 51s 7ms/step - loss: 6.2210e-04\n",
      "Epoch 47/100\n",
      "6910/6910 [==============================] - 52s 7ms/step - loss: 6.5567e-04\n",
      "Epoch 48/100\n",
      "6910/6910 [==============================] - 52s 7ms/step - loss: 6.4640e-04\n",
      "Epoch 49/100\n",
      "6910/6910 [==============================] - 52s 8ms/step - loss: 6.6159e-04\n",
      "Epoch 50/100\n",
      "6910/6910 [==============================] - 52s 7ms/step - loss: 6.8271e-04\n",
      "Epoch 51/100\n",
      "6910/6910 [==============================] - 52s 7ms/step - loss: 6.7374e-04\n",
      "Epoch 52/100\n",
      "6910/6910 [==============================] - 50s 7ms/step - loss: 6.7194e-04\n",
      "Epoch 53/100\n",
      "6910/6910 [==============================] - 51s 7ms/step - loss: 6.3758e-04\n",
      "Epoch 54/100\n",
      "6910/6910 [==============================] - 51s 7ms/step - loss: 6.1898e-04\n",
      "Epoch 55/100\n",
      "6910/6910 [==============================] - 51s 7ms/step - loss: 6.0884e-04\n",
      "Epoch 56/100\n",
      "6910/6910 [==============================] - 51s 7ms/step - loss: 6.8741e-04\n",
      "Epoch 57/100\n",
      "6910/6910 [==============================] - 51s 7ms/step - loss: 6.2549e-04\n",
      "Epoch 58/100\n",
      "6910/6910 [==============================] - 51s 7ms/step - loss: 6.2574e-04\n",
      "Epoch 59/100\n",
      "6910/6910 [==============================] - 51s 7ms/step - loss: 6.0420e-04\n",
      "Epoch 60/100\n",
      "6910/6910 [==============================] - 51s 7ms/step - loss: 5.9529e-04\n",
      "Epoch 61/100\n",
      "6910/6910 [==============================] - 51s 7ms/step - loss: 6.1144e-04\n",
      "Epoch 62/100\n",
      "6910/6910 [==============================] - 51s 7ms/step - loss: 5.8751e-04\n",
      "Epoch 63/100\n",
      "6910/6910 [==============================] - 51s 7ms/step - loss: 5.8984e-04\n",
      "Epoch 64/100\n",
      "6910/6910 [==============================] - 51s 7ms/step - loss: 6.0221e-04\n",
      "Epoch 65/100\n",
      "6910/6910 [==============================] - 51s 7ms/step - loss: 6.2019e-04\n",
      "Epoch 66/100\n",
      "6910/6910 [==============================] - 51s 7ms/step - loss: 6.1162e-04\n",
      "Epoch 67/100\n",
      "6910/6910 [==============================] - 51s 7ms/step - loss: 5.6351e-04\n",
      "Epoch 68/100\n",
      "6910/6910 [==============================] - 51s 7ms/step - loss: 5.6710e-04\n",
      "Epoch 69/100\n",
      "6910/6910 [==============================] - 51s 7ms/step - loss: 6.1010e-04\n",
      "Epoch 70/100\n",
      "6910/6910 [==============================] - 38s 5ms/step - loss: 5.9849e-04\n",
      "Epoch 71/100\n",
      "6910/6910 [==============================] - 6676s 966ms/step - loss: 5.5810e-04\n",
      "Epoch 72/100\n",
      "6910/6910 [==============================] - 23s 3ms/step - loss: 6.0839e-04\n",
      "Epoch 73/100\n",
      "6910/6910 [==============================] - 22s 3ms/step - loss: 5.8930e-04\n",
      "Epoch 74/100\n",
      "6910/6910 [==============================] - 22s 3ms/step - loss: 5.7104e-04\n",
      "Epoch 75/100\n",
      "6910/6910 [==============================] - 45s 7ms/step - loss: 5.6555e-04\n",
      "Epoch 76/100\n",
      "6910/6910 [==============================] - 56s 8ms/step - loss: 5.7168e-04\n",
      "Epoch 77/100\n",
      "6910/6910 [==============================] - 58s 8ms/step - loss: 5.4399e-04\n",
      "Epoch 78/100\n",
      "6910/6910 [==============================] - 55s 8ms/step - loss: 5.5875e-04\n",
      "Epoch 79/100\n",
      "6910/6910 [==============================] - 55s 8ms/step - loss: 5.4828e-04\n",
      "Epoch 80/100\n",
      "6910/6910 [==============================] - 56s 8ms/step - loss: 5.2856e-04\n",
      "Epoch 81/100\n",
      "6910/6910 [==============================] - 54s 8ms/step - loss: 5.3092e-04\n",
      "Epoch 82/100\n",
      "6910/6910 [==============================] - 51s 7ms/step - loss: 5.6685e-04\n",
      "Epoch 83/100\n",
      "6910/6910 [==============================] - 46s 7ms/step - loss: 5.4704e-04\n",
      "Epoch 84/100\n",
      "6910/6910 [==============================] - 48s 7ms/step - loss: 6.0071e-04\n",
      "Epoch 85/100\n",
      "6910/6910 [==============================] - 50s 7ms/step - loss: 5.6399e-04\n",
      "Epoch 86/100\n",
      "6910/6910 [==============================] - 50s 7ms/step - loss: 5.5389e-04\n",
      "Epoch 87/100\n",
      "6910/6910 [==============================] - 50s 7ms/step - loss: 5.3022e-04\n",
      "Epoch 88/100\n",
      "6910/6910 [==============================] - 50s 7ms/step - loss: 5.2366e-04\n",
      "Epoch 89/100\n",
      "6910/6910 [==============================] - 51s 7ms/step - loss: 5.6213e-04\n",
      "Epoch 90/100\n",
      "6910/6910 [==============================] - 51s 7ms/step - loss: 5.1898e-04\n",
      "Epoch 91/100\n",
      "6910/6910 [==============================] - 53s 8ms/step - loss: 5.4663e-04\n",
      "Epoch 92/100\n"
     ]
    },
    {
     "name": "stdout",
     "output_type": "stream",
     "text": [
      "6910/6910 [==============================] - 57s 8ms/step - loss: 5.2915e-04\n",
      "Epoch 93/100\n",
      "6910/6910 [==============================] - 56s 8ms/step - loss: 5.2835e-04\n",
      "Epoch 94/100\n",
      "6910/6910 [==============================] - 58s 8ms/step - loss: 5.3712e-04\n",
      "Epoch 95/100\n",
      "6910/6910 [==============================] - 51s 7ms/step - loss: 5.2463e-04\n",
      "Epoch 96/100\n",
      "6910/6910 [==============================] - 52s 8ms/step - loss: 5.4858e-04\n",
      "Epoch 97/100\n",
      "6910/6910 [==============================] - 45s 7ms/step - loss: 5.3251e-04\n",
      "Epoch 98/100\n",
      "6910/6910 [==============================] - 57s 8ms/step - loss: 5.6010e-04\n",
      "Epoch 99/100\n",
      "6910/6910 [==============================] - 53s 8ms/step - loss: 5.2277e-04\n",
      "Epoch 100/100\n",
      "6910/6910 [==============================] - 55s 8ms/step - loss: 5.2723e-04\n"
     ]
    },
    {
     "data": {
      "text/plain": [
       "<keras.callbacks.callbacks.History at 0x210dbdbffd0>"
      ]
     },
     "execution_count": 17,
     "metadata": {},
     "output_type": "execute_result"
    }
   ],
   "source": [
    "# Compiling the RNN\n",
    "regressor.compile(optimizer = 'adam', loss = 'mean_squared_error')\n",
    "\n",
    "# Fitting the RNN to the Training set\n",
    "regressor.fit(X_train, y_train, epochs = 100, batch_size = 32)"
   ]
  },
  {
   "cell_type": "code",
   "execution_count": 29,
   "metadata": {},
   "outputs": [],
   "source": [
    "# Part 3 - Making the predictions and visualising the results\n",
    "\n",
    "# Getting the real stock price of 2017\n",
    "dataset_test = pd.read_csv('MSFT.csv',index_col=\"Date\",parse_dates=True)\n",
    "\n"
   ]
  },
  {
   "cell_type": "code",
   "execution_count": null,
   "metadata": {},
   "outputs": [],
   "source": []
  },
  {
   "cell_type": "code",
   "execution_count": null,
   "metadata": {},
   "outputs": [],
   "source": []
  },
  {
   "cell_type": "raw",
   "metadata": {},
   "source": [
    "dataset_test.head()"
   ]
  },
  {
   "cell_type": "code",
   "execution_count": 19,
   "metadata": {},
   "outputs": [
    {
     "data": {
      "text/plain": [
       "Date\n",
       "2013-11-01    30.690798\n",
       "2013-11-04    30.621965\n",
       "2013-11-05    30.794044\n",
       "2013-11-06    32.041638\n",
       "2013-11-07    32.661138\n",
       "Name: Open, dtype: float64"
      ]
     },
     "execution_count": 19,
     "metadata": {},
     "output_type": "execute_result"
    }
   ],
   "source": [
    "dataset_test= dataset['Open']\n",
    "dataset_test= dataset_test[int(len(dataset_test)*4/5):]\n",
    "dataset_test.head()"
   ]
  },
  {
   "cell_type": "code",
   "execution_count": 20,
   "metadata": {},
   "outputs": [],
   "source": [
    "#dataset_test.values"
   ]
  },
  {
   "cell_type": "code",
   "execution_count": 21,
   "metadata": {},
   "outputs": [],
   "source": [
    "real_stock_price= dataset_test[60:]"
   ]
  },
  {
   "cell_type": "code",
   "execution_count": 22,
   "metadata": {},
   "outputs": [],
   "source": [
    "# Getting the predicted stock price of 2017\n",
    "inputs = dataset_test.values\n",
    "inputs = inputs.reshape(-1,1)\n",
    "inputs = sc.transform(inputs)\n",
    "X_test = []\n",
    "for i in range(60, len(inputs)):\n",
    "    X_test.append(inputs[i-60:i, 0])\n",
    "X_test = np.array(X_test)\n",
    "X_test = np.reshape(X_test, (X_test.shape[0], X_test.shape[1], 1))\n",
    "predicted_stock_price = regressor.predict(X_test)\n",
    "predicted_stock_price = sc.inverse_transform(predicted_stock_price)"
   ]
  },
  {
   "cell_type": "code",
   "execution_count": 23,
   "metadata": {},
   "outputs": [
    {
     "data": {
      "text/html": [
       "<div>\n",
       "<style scoped>\n",
       "    .dataframe tbody tr th:only-of-type {\n",
       "        vertical-align: middle;\n",
       "    }\n",
       "\n",
       "    .dataframe tbody tr th {\n",
       "        vertical-align: top;\n",
       "    }\n",
       "\n",
       "    .dataframe thead th {\n",
       "        text-align: right;\n",
       "    }\n",
       "</style>\n",
       "<table border=\"1\" class=\"dataframe\">\n",
       "  <thead>\n",
       "    <tr style=\"text-align: right;\">\n",
       "      <th></th>\n",
       "      <th>Open</th>\n",
       "    </tr>\n",
       "    <tr>\n",
       "      <th>Date</th>\n",
       "      <th></th>\n",
       "    </tr>\n",
       "  </thead>\n",
       "  <tbody>\n",
       "    <tr>\n",
       "      <th>2014-01-30</th>\n",
       "      <td>31.894523</td>\n",
       "    </tr>\n",
       "    <tr>\n",
       "      <th>2014-01-31</th>\n",
       "      <td>32.033231</td>\n",
       "    </tr>\n",
       "    <tr>\n",
       "      <th>2014-02-03</th>\n",
       "      <td>32.718122</td>\n",
       "    </tr>\n",
       "    <tr>\n",
       "      <th>2014-02-04</th>\n",
       "      <td>32.050579</td>\n",
       "    </tr>\n",
       "    <tr>\n",
       "      <th>2014-02-05</th>\n",
       "      <td>31.461055</td>\n",
       "    </tr>\n",
       "    <tr>\n",
       "      <th>...</th>\n",
       "      <td>...</td>\n",
       "    </tr>\n",
       "    <tr>\n",
       "      <th>2020-09-29</th>\n",
       "      <td>209.350006</td>\n",
       "    </tr>\n",
       "    <tr>\n",
       "      <th>2020-09-30</th>\n",
       "      <td>207.729996</td>\n",
       "    </tr>\n",
       "    <tr>\n",
       "      <th>2020-10-01</th>\n",
       "      <td>213.490005</td>\n",
       "    </tr>\n",
       "    <tr>\n",
       "      <th>2020-10-02</th>\n",
       "      <td>208.000000</td>\n",
       "    </tr>\n",
       "    <tr>\n",
       "      <th>2020-10-05</th>\n",
       "      <td>207.220001</td>\n",
       "    </tr>\n",
       "  </tbody>\n",
       "</table>\n",
       "<p>1683 rows × 1 columns</p>\n",
       "</div>"
      ],
      "text/plain": [
       "                  Open\n",
       "Date                  \n",
       "2014-01-30   31.894523\n",
       "2014-01-31   32.033231\n",
       "2014-02-03   32.718122\n",
       "2014-02-04   32.050579\n",
       "2014-02-05   31.461055\n",
       "...                ...\n",
       "2020-09-29  209.350006\n",
       "2020-09-30  207.729996\n",
       "2020-10-01  213.490005\n",
       "2020-10-02  208.000000\n",
       "2020-10-05  207.220001\n",
       "\n",
       "[1683 rows x 1 columns]"
      ]
     },
     "execution_count": 23,
     "metadata": {},
     "output_type": "execute_result"
    }
   ],
   "source": [
    "real_stock_price=pd.DataFrame(real_stock_price)\n",
    "real_stock_price"
   ]
  },
  {
   "cell_type": "code",
   "execution_count": 24,
   "metadata": {},
   "outputs": [
    {
     "name": "stdout",
     "output_type": "stream",
     "text": [
      "<class 'pandas.core.frame.DataFrame'>\n",
      "RangeIndex: 1683 entries, 0 to 1682\n",
      "Data columns (total 1 columns):\n",
      " #   Column  Non-Null Count  Dtype  \n",
      "---  ------  --------------  -----  \n",
      " 0   0       1683 non-null   float32\n",
      "dtypes: float32(1)\n",
      "memory usage: 6.7 KB\n"
     ]
    }
   ],
   "source": [
    "predicted_stock_price=pd.DataFrame(predicted_stock_price)\n",
    "predicted_stock_price.rename(columns={'0':\"Open2\"})\n",
    "predicted_stock_price.info()"
   ]
  },
  {
   "cell_type": "code",
   "execution_count": 25,
   "metadata": {},
   "outputs": [
    {
     "data": {
      "text/plain": [
       "array([31.852194, 32.559574, 32.606464, ..., 76.25866 , 76.39105 ,\n",
       "       76.1297  ], dtype=float32)"
      ]
     },
     "execution_count": 25,
     "metadata": {},
     "output_type": "execute_result"
    }
   ],
   "source": [
    "df3= predicted_stock_price[0]\n",
    "df3.values"
   ]
  },
  {
   "cell_type": "code",
   "execution_count": 26,
   "metadata": {},
   "outputs": [],
   "source": [
    "real_stock_price.insert(1, 'Open2', df3.values, True)"
   ]
  },
  {
   "cell_type": "code",
   "execution_count": 27,
   "metadata": {},
   "outputs": [
    {
     "data": {
      "text/html": [
       "<div>\n",
       "<style scoped>\n",
       "    .dataframe tbody tr th:only-of-type {\n",
       "        vertical-align: middle;\n",
       "    }\n",
       "\n",
       "    .dataframe tbody tr th {\n",
       "        vertical-align: top;\n",
       "    }\n",
       "\n",
       "    .dataframe thead th {\n",
       "        text-align: right;\n",
       "    }\n",
       "</style>\n",
       "<table border=\"1\" class=\"dataframe\">\n",
       "  <thead>\n",
       "    <tr style=\"text-align: right;\">\n",
       "      <th></th>\n",
       "      <th>Open</th>\n",
       "      <th>Open2</th>\n",
       "    </tr>\n",
       "    <tr>\n",
       "      <th>Date</th>\n",
       "      <th></th>\n",
       "      <th></th>\n",
       "    </tr>\n",
       "  </thead>\n",
       "  <tbody>\n",
       "    <tr>\n",
       "      <th>2014-01-30</th>\n",
       "      <td>31.894523</td>\n",
       "      <td>31.852194</td>\n",
       "    </tr>\n",
       "    <tr>\n",
       "      <th>2014-01-31</th>\n",
       "      <td>32.033231</td>\n",
       "      <td>32.559574</td>\n",
       "    </tr>\n",
       "    <tr>\n",
       "      <th>2014-02-03</th>\n",
       "      <td>32.718122</td>\n",
       "      <td>32.606464</td>\n",
       "    </tr>\n",
       "    <tr>\n",
       "      <th>2014-02-04</th>\n",
       "      <td>32.050579</td>\n",
       "      <td>33.320789</td>\n",
       "    </tr>\n",
       "    <tr>\n",
       "      <th>2014-02-05</th>\n",
       "      <td>31.461055</td>\n",
       "      <td>32.592636</td>\n",
       "    </tr>\n",
       "    <tr>\n",
       "      <th>...</th>\n",
       "      <td>...</td>\n",
       "      <td>...</td>\n",
       "    </tr>\n",
       "    <tr>\n",
       "      <th>2020-09-29</th>\n",
       "      <td>209.350006</td>\n",
       "      <td>76.268021</td>\n",
       "    </tr>\n",
       "    <tr>\n",
       "      <th>2020-09-30</th>\n",
       "      <td>207.729996</td>\n",
       "      <td>76.190506</td>\n",
       "    </tr>\n",
       "    <tr>\n",
       "      <th>2020-10-01</th>\n",
       "      <td>213.490005</td>\n",
       "      <td>76.258659</td>\n",
       "    </tr>\n",
       "    <tr>\n",
       "      <th>2020-10-02</th>\n",
       "      <td>208.000000</td>\n",
       "      <td>76.391052</td>\n",
       "    </tr>\n",
       "    <tr>\n",
       "      <th>2020-10-05</th>\n",
       "      <td>207.220001</td>\n",
       "      <td>76.129700</td>\n",
       "    </tr>\n",
       "  </tbody>\n",
       "</table>\n",
       "<p>1683 rows × 2 columns</p>\n",
       "</div>"
      ],
      "text/plain": [
       "                  Open      Open2\n",
       "Date                             \n",
       "2014-01-30   31.894523  31.852194\n",
       "2014-01-31   32.033231  32.559574\n",
       "2014-02-03   32.718122  32.606464\n",
       "2014-02-04   32.050579  33.320789\n",
       "2014-02-05   31.461055  32.592636\n",
       "...                ...        ...\n",
       "2020-09-29  209.350006  76.268021\n",
       "2020-09-30  207.729996  76.190506\n",
       "2020-10-01  213.490005  76.258659\n",
       "2020-10-02  208.000000  76.391052\n",
       "2020-10-05  207.220001  76.129700\n",
       "\n",
       "[1683 rows x 2 columns]"
      ]
     },
     "execution_count": 27,
     "metadata": {},
     "output_type": "execute_result"
    }
   ],
   "source": [
    "real_stock_price"
   ]
  },
  {
   "cell_type": "code",
   "execution_count": 28,
   "metadata": {},
   "outputs": [
    {
     "data": {
      "image/png": "[encoded data removed]",
      "text/plain": [
       "<Figure size 1440x720 with 1 Axes>"
      ]
     },
     "metadata": {
      "needs_background": "light"
     },
     "output_type": "display_data"
    }
   ],
   "source": [
    "\n",
    "# Visualising the results\n",
    "plt.figure(figsize=(20,10))\n",
    "plt.plot(real_stock_price['Open'], color = 'red', label = 'Real Google Stock Price')\n",
    "plt.plot(real_stock_price['Open2'], color = 'blue', label = 'Predicted Google Stock Price')\n",
    "plt.title('Google Stock Price Prediction')\n",
    "plt.xlabel('Time')\n",
    "plt.ylabel('Google Stock Price')\n",
    "plt.legend()\n",
    "plt.show()\n"
   ]
  },
  {
   "cell_type": "code",
   "execution_count": null,
   "metadata": {},
   "outputs": [],
   "source": []
  }
 ],
 "metadata": {
  "kernelspec": {
   "display_name": "Python 3.6.5 64-bit",
   "language": "python",
   "name": "python36564bit56f9f057e1644f70ad0d7cf032c4facb"
  },
  "language_info": {
   "codemirror_mode": {
    "name": "ipython",
    "version": 3
   },
   "file_extension": ".py",
   "mimetype": "text/x-python",
   "name": "python",
   "nbconvert_exporter": "python",
   "pygments_lexer": "ipython3",
   "version": "3.6.5"
  }
 },
 "nbformat": 4,
 "nbformat_minor": 4
}
