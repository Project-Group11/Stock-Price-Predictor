{
 "cells": [
  {
   "cell_type": "code",
   "execution_count": 98,
   "metadata": {},
   "outputs": [],
   "source": [
    "import pickle\n",
    "import pandas as pd\n",
    "import numpy as np\n",
    "import matplotlib.pyplot as plt\n",
    "import yfinance as yf"
   ]
  },
  {
   "cell_type": "code",
   "execution_count": 99,
   "metadata": {},
   "outputs": [],
   "source": [
    "Stocks= [\"ITC.NS\"]"
   ]
  },
  {
   "cell_type": "code",
   "execution_count": 100,
   "metadata": {},
   "outputs": [],
   "source": [
    "S= \"ITC.NS\""
   ]
  },
  {
   "cell_type": "code",
   "execution_count": 101,
   "metadata": {},
   "outputs": [],
   "source": [
    "Pkl_Filename = \"ITC_Model.pkl\"\n",
    "sc_file= \"ITC_sc.pkl\"\n",
    "global sc\n",
    "with open(Pkl_Filename, 'rb') as file:  \n",
    "    regressor = pickle.load(file)\n",
    "\n",
    "with open(sc_file, 'rb') as file:  \n",
    "    sc = pickle.load(file)\n",
    "        \n",
    "stk = yf.Ticker(S)\n",
    "df= stk.history(period=\"10y\")\n",
    "df.iloc[:,0:5].to_csv(S+\".csv\")\n"
   ]
  },
  {
   "cell_type": "code",
   "execution_count": 102,
   "metadata": {},
   "outputs": [],
   "source": [
    "df = pd.read_csv(S+\".csv\",index_col=\"Date\",parse_dates=True)"
   ]
  },
  {
   "cell_type": "code",
   "execution_count": 103,
   "metadata": {},
   "outputs": [
    {
     "data": {
      "text/html": [
       "<div>\n",
       "<style scoped>\n",
       "    .dataframe tbody tr th:only-of-type {\n",
       "        vertical-align: middle;\n",
       "    }\n",
       "\n",
       "    .dataframe tbody tr th {\n",
       "        vertical-align: top;\n",
       "    }\n",
       "\n",
       "    .dataframe thead th {\n",
       "        text-align: right;\n",
       "    }\n",
       "</style>\n",
       "<table border=\"1\" class=\"dataframe\">\n",
       "  <thead>\n",
       "    <tr style=\"text-align: right;\">\n",
       "      <th></th>\n",
       "      <th>Open</th>\n",
       "      <th>High</th>\n",
       "      <th>Low</th>\n",
       "      <th>Close</th>\n",
       "      <th>Volume</th>\n",
       "    </tr>\n",
       "    <tr>\n",
       "      <th>Date</th>\n",
       "      <th></th>\n",
       "      <th></th>\n",
       "      <th></th>\n",
       "      <th></th>\n",
       "      <th></th>\n",
       "    </tr>\n",
       "  </thead>\n",
       "  <tbody>\n",
       "    <tr>\n",
       "      <th>2010-10-26</th>\n",
       "      <td>87.533456</td>\n",
       "      <td>89.074986</td>\n",
       "      <td>86.890639</td>\n",
       "      <td>88.252579</td>\n",
       "      <td>9176379</td>\n",
       "    </tr>\n",
       "    <tr>\n",
       "      <th>2010-10-27</th>\n",
       "      <td>88.252584</td>\n",
       "      <td>88.329659</td>\n",
       "      <td>85.914856</td>\n",
       "      <td>86.248596</td>\n",
       "      <td>7460368</td>\n",
       "    </tr>\n",
       "    <tr>\n",
       "      <th>2010-10-28</th>\n",
       "      <td>86.916848</td>\n",
       "      <td>88.227152</td>\n",
       "      <td>84.784143</td>\n",
       "      <td>85.837776</td>\n",
       "      <td>34655488</td>\n",
       "    </tr>\n",
       "    <tr>\n",
       "      <th>2010-10-29</th>\n",
       "      <td>86.890639</td>\n",
       "      <td>88.329655</td>\n",
       "      <td>85.144087</td>\n",
       "      <td>87.969711</td>\n",
       "      <td>27593872</td>\n",
       "    </tr>\n",
       "    <tr>\n",
       "      <th>2010-11-01</th>\n",
       "      <td>88.637970</td>\n",
       "      <td>89.152070</td>\n",
       "      <td>87.790130</td>\n",
       "      <td>88.304230</td>\n",
       "      <td>12801544</td>\n",
       "    </tr>\n",
       "  </tbody>\n",
       "</table>\n",
       "</div>"
      ],
      "text/plain": [
       "                 Open       High        Low      Close    Volume\n",
       "Date                                                            \n",
       "2010-10-26  87.533456  89.074986  86.890639  88.252579   9176379\n",
       "2010-10-27  88.252584  88.329659  85.914856  86.248596   7460368\n",
       "2010-10-28  86.916848  88.227152  84.784143  85.837776  34655488\n",
       "2010-10-29  86.890639  88.329655  85.144087  87.969711  27593872\n",
       "2010-11-01  88.637970  89.152070  87.790130  88.304230  12801544"
      ]
     },
     "execution_count": 103,
     "metadata": {},
     "output_type": "execute_result"
    }
   ],
   "source": [
    "df.head()"
   ]
  },
  {
   "cell_type": "code",
   "execution_count": 20,
   "metadata": {},
   "outputs": [],
   "source": [
    "df= df[['Open']]\n",
    "training_df= df[:int(len(df)*(4/5))]\n",
    "testing_df= df[int(len(df)*(4/5)):]"
   ]
  },
  {
   "cell_type": "code",
   "execution_count": 21,
   "metadata": {},
   "outputs": [],
   "source": [
    "testing_df= sc.transform(testing_df)"
   ]
  },
  {
   "cell_type": "code",
   "execution_count": 22,
   "metadata": {},
   "outputs": [],
   "source": [
    "X_test = []\n",
    "y_test = []\n",
    "for i in range(60, len(testing_df)-4):\n",
    "    X_test.append(testing_df[i-60:i])\n",
    "    y_test.append(testing_df[i+4, 0])\n",
    "X_test, y_test = np.array(X_test), np.array(y_test)"
   ]
  },
  {
   "cell_type": "code",
   "execution_count": 24,
   "metadata": {},
   "outputs": [],
   "source": [
    "X_test = np.reshape(X_test, (X_test.shape[0], X_test.shape[1], 1))"
   ]
  },
  {
   "cell_type": "code",
   "execution_count": 25,
   "metadata": {},
   "outputs": [],
   "source": [
    "predicted_stock_price = regressor.predict(X_test)"
   ]
  },
  {
   "cell_type": "code",
   "execution_count": 26,
   "metadata": {},
   "outputs": [
    {
     "data": {
      "text/plain": [
       "(429, 1)"
      ]
     },
     "execution_count": 26,
     "metadata": {},
     "output_type": "execute_result"
    }
   ],
   "source": [
    "y_test= np.reshape(y_test, (y_test.shape[0], 1))\n",
    "y_test.shape"
   ]
  },
  {
   "cell_type": "code",
   "execution_count": 27,
   "metadata": {},
   "outputs": [],
   "source": [
    "predicted_stock_price = sc.inverse_transform(predicted_stock_price)\n",
    "actual_stock_price = sc.inverse_transform(y_test)"
   ]
  },
  {
   "cell_type": "code",
   "execution_count": 43,
   "metadata": {},
   "outputs": [],
   "source": [
    "df = pd.read_csv(S+\".csv\",index_col=\"Date\",parse_dates=True)\n",
    "df= df[['Open']]"
   ]
  },
  {
   "cell_type": "code",
   "execution_count": 44,
   "metadata": {},
   "outputs": [],
   "source": [
    "df= df[int(len(df)*(4/5))+64:]"
   ]
  },
  {
   "cell_type": "code",
   "execution_count": 45,
   "metadata": {},
   "outputs": [
    {
     "data": {
      "text/html": [
       "<div>\n",
       "<style scoped>\n",
       "    .dataframe tbody tr th:only-of-type {\n",
       "        vertical-align: middle;\n",
       "    }\n",
       "\n",
       "    .dataframe tbody tr th {\n",
       "        vertical-align: top;\n",
       "    }\n",
       "\n",
       "    .dataframe thead th {\n",
       "        text-align: right;\n",
       "    }\n",
       "</style>\n",
       "<table border=\"1\" class=\"dataframe\">\n",
       "  <thead>\n",
       "    <tr style=\"text-align: right;\">\n",
       "      <th></th>\n",
       "      <th>Open</th>\n",
       "    </tr>\n",
       "    <tr>\n",
       "      <th>Date</th>\n",
       "      <th></th>\n",
       "    </tr>\n",
       "  </thead>\n",
       "  <tbody>\n",
       "    <tr>\n",
       "      <th>2020-10-20</th>\n",
       "      <td>168.000000</td>\n",
       "    </tr>\n",
       "    <tr>\n",
       "      <th>2020-10-21</th>\n",
       "      <td>168.149994</td>\n",
       "    </tr>\n",
       "    <tr>\n",
       "      <th>2020-10-22</th>\n",
       "      <td>167.550003</td>\n",
       "    </tr>\n",
       "    <tr>\n",
       "      <th>2020-10-23</th>\n",
       "      <td>168.949997</td>\n",
       "    </tr>\n",
       "    <tr>\n",
       "      <th>2020-10-26</th>\n",
       "      <td>171.500000</td>\n",
       "    </tr>\n",
       "  </tbody>\n",
       "</table>\n",
       "</div>"
      ],
      "text/plain": [
       "                  Open\n",
       "Date                  \n",
       "2020-10-20  168.000000\n",
       "2020-10-21  168.149994\n",
       "2020-10-22  167.550003\n",
       "2020-10-23  168.949997\n",
       "2020-10-26  171.500000"
      ]
     },
     "execution_count": 45,
     "metadata": {},
     "output_type": "execute_result"
    }
   ],
   "source": [
    "df.tail()"
   ]
  },
  {
   "cell_type": "code",
   "execution_count": 33,
   "metadata": {},
   "outputs": [
    {
     "data": {
      "text/html": [
       "<div>\n",
       "<style scoped>\n",
       "    .dataframe tbody tr th:only-of-type {\n",
       "        vertical-align: middle;\n",
       "    }\n",
       "\n",
       "    .dataframe tbody tr th {\n",
       "        vertical-align: top;\n",
       "    }\n",
       "\n",
       "    .dataframe thead th {\n",
       "        text-align: right;\n",
       "    }\n",
       "</style>\n",
       "<table border=\"1\" class=\"dataframe\">\n",
       "  <thead>\n",
       "    <tr style=\"text-align: right;\">\n",
       "      <th></th>\n",
       "      <th>0</th>\n",
       "    </tr>\n",
       "  </thead>\n",
       "  <tbody>\n",
       "    <tr>\n",
       "      <th>0</th>\n",
       "      <td>270.402985</td>\n",
       "    </tr>\n",
       "    <tr>\n",
       "      <th>1</th>\n",
       "      <td>269.543610</td>\n",
       "    </tr>\n",
       "    <tr>\n",
       "      <th>2</th>\n",
       "      <td>268.218048</td>\n",
       "    </tr>\n",
       "    <tr>\n",
       "      <th>3</th>\n",
       "      <td>267.702118</td>\n",
       "    </tr>\n",
       "    <tr>\n",
       "      <th>4</th>\n",
       "      <td>264.226929</td>\n",
       "    </tr>\n",
       "    <tr>\n",
       "      <th>...</th>\n",
       "      <td>...</td>\n",
       "    </tr>\n",
       "    <tr>\n",
       "      <th>424</th>\n",
       "      <td>171.780487</td>\n",
       "    </tr>\n",
       "    <tr>\n",
       "      <th>425</th>\n",
       "      <td>172.293106</td>\n",
       "    </tr>\n",
       "    <tr>\n",
       "      <th>426</th>\n",
       "      <td>171.856308</td>\n",
       "    </tr>\n",
       "    <tr>\n",
       "      <th>427</th>\n",
       "      <td>170.417358</td>\n",
       "    </tr>\n",
       "    <tr>\n",
       "      <th>428</th>\n",
       "      <td>168.994415</td>\n",
       "    </tr>\n",
       "  </tbody>\n",
       "</table>\n",
       "<p>429 rows × 1 columns</p>\n",
       "</div>"
      ],
      "text/plain": [
       "              0\n",
       "0    270.402985\n",
       "1    269.543610\n",
       "2    268.218048\n",
       "3    267.702118\n",
       "4    264.226929\n",
       "..          ...\n",
       "424  171.780487\n",
       "425  172.293106\n",
       "426  171.856308\n",
       "427  170.417358\n",
       "428  168.994415\n",
       "\n",
       "[429 rows x 1 columns]"
      ]
     },
     "execution_count": 33,
     "metadata": {},
     "output_type": "execute_result"
    }
   ],
   "source": [
    "pred_df=pd.DataFrame(predicted_stock_price)\n",
    "pred_df"
   ]
  },
  {
   "cell_type": "code",
   "execution_count": 38,
   "metadata": {},
   "outputs": [
    {
     "data": {
      "text/plain": [
       "(429, 1)"
      ]
     },
     "execution_count": 38,
     "metadata": {},
     "output_type": "execute_result"
    }
   ],
   "source": [
    "predicted_stock_price.shape"
   ]
  },
  {
   "cell_type": "code",
   "execution_count": 46,
   "metadata": {},
   "outputs": [
    {
     "data": {
      "text/plain": [
       "(429, 1)"
      ]
     },
     "execution_count": 46,
     "metadata": {},
     "output_type": "execute_result"
    }
   ],
   "source": [
    "df.shape"
   ]
  },
  {
   "cell_type": "code",
   "execution_count": 47,
   "metadata": {},
   "outputs": [],
   "source": [
    "df['Open2']= predicted_stock_price"
   ]
  },
  {
   "cell_type": "code",
   "execution_count": 48,
   "metadata": {},
   "outputs": [
    {
     "data": {
      "text/html": [
       "<div>\n",
       "<style scoped>\n",
       "    .dataframe tbody tr th:only-of-type {\n",
       "        vertical-align: middle;\n",
       "    }\n",
       "\n",
       "    .dataframe tbody tr th {\n",
       "        vertical-align: top;\n",
       "    }\n",
       "\n",
       "    .dataframe thead th {\n",
       "        text-align: right;\n",
       "    }\n",
       "</style>\n",
       "<table border=\"1\" class=\"dataframe\">\n",
       "  <thead>\n",
       "    <tr style=\"text-align: right;\">\n",
       "      <th></th>\n",
       "      <th>Open</th>\n",
       "      <th>Open2</th>\n",
       "    </tr>\n",
       "    <tr>\n",
       "      <th>Date</th>\n",
       "      <th></th>\n",
       "      <th></th>\n",
       "    </tr>\n",
       "  </thead>\n",
       "  <tbody>\n",
       "    <tr>\n",
       "      <th>2020-10-20</th>\n",
       "      <td>168.000000</td>\n",
       "      <td>171.780487</td>\n",
       "    </tr>\n",
       "    <tr>\n",
       "      <th>2020-10-21</th>\n",
       "      <td>168.149994</td>\n",
       "      <td>172.293106</td>\n",
       "    </tr>\n",
       "    <tr>\n",
       "      <th>2020-10-22</th>\n",
       "      <td>167.550003</td>\n",
       "      <td>171.856308</td>\n",
       "    </tr>\n",
       "    <tr>\n",
       "      <th>2020-10-23</th>\n",
       "      <td>168.949997</td>\n",
       "      <td>170.417358</td>\n",
       "    </tr>\n",
       "    <tr>\n",
       "      <th>2020-10-26</th>\n",
       "      <td>171.500000</td>\n",
       "      <td>168.994415</td>\n",
       "    </tr>\n",
       "  </tbody>\n",
       "</table>\n",
       "</div>"
      ],
      "text/plain": [
       "                  Open       Open2\n",
       "Date                              \n",
       "2020-10-20  168.000000  171.780487\n",
       "2020-10-21  168.149994  172.293106\n",
       "2020-10-22  167.550003  171.856308\n",
       "2020-10-23  168.949997  170.417358\n",
       "2020-10-26  171.500000  168.994415"
      ]
     },
     "execution_count": 48,
     "metadata": {},
     "output_type": "execute_result"
    }
   ],
   "source": [
    "df.tail()"
   ]
  },
  {
   "cell_type": "code",
   "execution_count": 49,
   "metadata": {},
   "outputs": [
    {
     "data": {
      "text/plain": [
       "[<matplotlib.lines.Line2D at 0x2704da67eb8>]"
      ]
     },
     "execution_count": 49,
     "metadata": {},
     "output_type": "execute_result"
    },
    {
     "data": {
      "image/png": "[encoded data removed]",
      "text/plain": [
       "<Figure size 1440x720 with 1 Axes>"
      ]
     },
     "metadata": {
      "needs_background": "light"
     },
     "output_type": "display_data"
    }
   ],
   "source": [
    "plt.figure(figsize=(20,10))\n",
    "plt.plot(df['Open'])\n",
    "plt.plot(df['Open2'])"
   ]
  },
  {
   "cell_type": "code",
   "execution_count": 104,
   "metadata": {},
   "outputs": [
    {
     "data": {
      "text/html": [
       "<div>\n",
       "<style scoped>\n",
       "    .dataframe tbody tr th:only-of-type {\n",
       "        vertical-align: middle;\n",
       "    }\n",
       "\n",
       "    .dataframe tbody tr th {\n",
       "        vertical-align: top;\n",
       "    }\n",
       "\n",
       "    .dataframe thead th {\n",
       "        text-align: right;\n",
       "    }\n",
       "</style>\n",
       "<table border=\"1\" class=\"dataframe\">\n",
       "  <thead>\n",
       "    <tr style=\"text-align: right;\">\n",
       "      <th></th>\n",
       "      <th>Open</th>\n",
       "      <th>High</th>\n",
       "      <th>Low</th>\n",
       "      <th>Close</th>\n",
       "      <th>Volume</th>\n",
       "    </tr>\n",
       "    <tr>\n",
       "      <th>Date</th>\n",
       "      <th></th>\n",
       "      <th></th>\n",
       "      <th></th>\n",
       "      <th></th>\n",
       "      <th></th>\n",
       "    </tr>\n",
       "  </thead>\n",
       "  <tbody>\n",
       "    <tr>\n",
       "      <th>2020-07-27</th>\n",
       "      <td>200.500000</td>\n",
       "      <td>200.500000</td>\n",
       "      <td>195.149994</td>\n",
       "      <td>196.399994</td>\n",
       "      <td>22645697</td>\n",
       "    </tr>\n",
       "    <tr>\n",
       "      <th>2020-07-28</th>\n",
       "      <td>197.000000</td>\n",
       "      <td>198.649994</td>\n",
       "      <td>195.050003</td>\n",
       "      <td>195.399994</td>\n",
       "      <td>19287132</td>\n",
       "    </tr>\n",
       "    <tr>\n",
       "      <th>2020-07-29</th>\n",
       "      <td>193.449997</td>\n",
       "      <td>198.199997</td>\n",
       "      <td>193.399994</td>\n",
       "      <td>196.699997</td>\n",
       "      <td>14831635</td>\n",
       "    </tr>\n",
       "    <tr>\n",
       "      <th>2020-07-30</th>\n",
       "      <td>198.399994</td>\n",
       "      <td>198.399994</td>\n",
       "      <td>192.500000</td>\n",
       "      <td>193.350006</td>\n",
       "      <td>16315231</td>\n",
       "    </tr>\n",
       "    <tr>\n",
       "      <th>2020-07-31</th>\n",
       "      <td>193.500000</td>\n",
       "      <td>196.949997</td>\n",
       "      <td>193.500000</td>\n",
       "      <td>194.149994</td>\n",
       "      <td>16652851</td>\n",
       "    </tr>\n",
       "  </tbody>\n",
       "</table>\n",
       "</div>"
      ],
      "text/plain": [
       "                  Open        High         Low       Close    Volume\n",
       "Date                                                                \n",
       "2020-07-27  200.500000  200.500000  195.149994  196.399994  22645697\n",
       "2020-07-28  197.000000  198.649994  195.050003  195.399994  19287132\n",
       "2020-07-29  193.449997  198.199997  193.399994  196.699997  14831635\n",
       "2020-07-30  198.399994  198.399994  192.500000  193.350006  16315231\n",
       "2020-07-31  193.500000  196.949997  193.500000  194.149994  16652851"
      ]
     },
     "execution_count": 104,
     "metadata": {},
     "output_type": "execute_result"
    }
   ],
   "source": [
    "week_df= df[-65:]\n",
    "week_df.head()"
   ]
  },
  {
   "cell_type": "code",
   "execution_count": 105,
   "metadata": {},
   "outputs": [],
   "source": [
    "week_df= week_df['Open']"
   ]
  },
  {
   "cell_type": "code",
   "execution_count": 106,
   "metadata": {},
   "outputs": [
    {
     "data": {
      "text/plain": [
       "Date\n",
       "2020-07-27    200.500000\n",
       "2020-07-28    197.000000\n",
       "2020-07-29    193.449997\n",
       "2020-07-30    198.399994\n",
       "2020-07-31    193.500000\n",
       "Name: Open, dtype: float64"
      ]
     },
     "execution_count": 106,
     "metadata": {},
     "output_type": "execute_result"
    }
   ],
   "source": [
    "week_df.head()"
   ]
  },
  {
   "cell_type": "code",
   "execution_count": 107,
   "metadata": {},
   "outputs": [],
   "source": [
    "X_test = []\n",
    "y_test = []\n",
    "for i in range(60, len(week_df)):\n",
    "    X_test.append(week_df[i-60:i])\n",
    "X_test = np.array(X_test)"
   ]
  },
  {
   "cell_type": "code",
   "execution_count": 108,
   "metadata": {},
   "outputs": [
    {
     "data": {
      "text/plain": [
       "array([[200.5       , 197.        , 193.44999695, 198.3999939 ,\n",
       "        193.5       , 194.        , 192.6000061 , 194.5       ,\n",
       "        194.19999695, 195.5       , 196.3999939 , 200.        ,\n",
       "        202.5       , 203.5       , 201.6000061 , 198.05000305,\n",
       "        199.8999939 , 198.6000061 , 197.        , 198.        ,\n",
       "        197.25      , 197.25      , 196.5       , 198.5       ,\n",
       "        194.6000061 , 199.        , 191.1000061 , 191.30000305,\n",
       "        191.3999939 , 190.        , 187.25      , 189.6000061 ,\n",
       "        185.5       , 184.1000061 , 184.8999939 , 185.80000305,\n",
       "        184.        , 181.8500061 , 180.80000305, 179.55000305,\n",
       "        180.        , 175.75      , 174.94999695, 171.69999695,\n",
       "        168.8999939 , 171.        , 174.75      , 170.        ,\n",
       "        174.5       , 171.1000061 , 169.5       , 170.        ,\n",
       "        170.1000061 , 167.5       , 170.5       , 172.8500061 ,\n",
       "        170.55000305, 167.69999695, 165.5       , 166.80000305],\n",
       "       [197.        , 193.44999695, 198.3999939 , 193.5       ,\n",
       "        194.        , 192.6000061 , 194.5       , 194.19999695,\n",
       "        195.5       , 196.3999939 , 200.        , 202.5       ,\n",
       "        203.5       , 201.6000061 , 198.05000305, 199.8999939 ,\n",
       "        198.6000061 , 197.        , 198.        , 197.25      ,\n",
       "        197.25      , 196.5       , 198.5       , 194.6000061 ,\n",
       "        199.        , 191.1000061 , 191.30000305, 191.3999939 ,\n",
       "        190.        , 187.25      , 189.6000061 , 185.5       ,\n",
       "        184.1000061 , 184.8999939 , 185.80000305, 184.        ,\n",
       "        181.8500061 , 180.80000305, 179.55000305, 180.        ,\n",
       "        175.75      , 174.94999695, 171.69999695, 168.8999939 ,\n",
       "        171.        , 174.75      , 170.        , 174.5       ,\n",
       "        171.1000061 , 169.5       , 170.        , 170.1000061 ,\n",
       "        167.5       , 170.5       , 172.8500061 , 170.55000305,\n",
       "        167.69999695, 165.5       , 166.80000305, 168.        ],\n",
       "       [193.44999695, 198.3999939 , 193.5       , 194.        ,\n",
       "        192.6000061 , 194.5       , 194.19999695, 195.5       ,\n",
       "        196.3999939 , 200.        , 202.5       , 203.5       ,\n",
       "        201.6000061 , 198.05000305, 199.8999939 , 198.6000061 ,\n",
       "        197.        , 198.        , 197.25      , 197.25      ,\n",
       "        196.5       , 198.5       , 194.6000061 , 199.        ,\n",
       "        191.1000061 , 191.30000305, 191.3999939 , 190.        ,\n",
       "        187.25      , 189.6000061 , 185.5       , 184.1000061 ,\n",
       "        184.8999939 , 185.80000305, 184.        , 181.8500061 ,\n",
       "        180.80000305, 179.55000305, 180.        , 175.75      ,\n",
       "        174.94999695, 171.69999695, 168.8999939 , 171.        ,\n",
       "        174.75      , 170.        , 174.5       , 171.1000061 ,\n",
       "        169.5       , 170.        , 170.1000061 , 167.5       ,\n",
       "        170.5       , 172.8500061 , 170.55000305, 167.69999695,\n",
       "        165.5       , 166.80000305, 168.        , 168.1499939 ],\n",
       "       [198.3999939 , 193.5       , 194.        , 192.6000061 ,\n",
       "        194.5       , 194.19999695, 195.5       , 196.3999939 ,\n",
       "        200.        , 202.5       , 203.5       , 201.6000061 ,\n",
       "        198.05000305, 199.8999939 , 198.6000061 , 197.        ,\n",
       "        198.        , 197.25      , 197.25      , 196.5       ,\n",
       "        198.5       , 194.6000061 , 199.        , 191.1000061 ,\n",
       "        191.30000305, 191.3999939 , 190.        , 187.25      ,\n",
       "        189.6000061 , 185.5       , 184.1000061 , 184.8999939 ,\n",
       "        185.80000305, 184.        , 181.8500061 , 180.80000305,\n",
       "        179.55000305, 180.        , 175.75      , 174.94999695,\n",
       "        171.69999695, 168.8999939 , 171.        , 174.75      ,\n",
       "        170.        , 174.5       , 171.1000061 , 169.5       ,\n",
       "        170.        , 170.1000061 , 167.5       , 170.5       ,\n",
       "        172.8500061 , 170.55000305, 167.69999695, 165.5       ,\n",
       "        166.80000305, 168.        , 168.1499939 , 167.55000305],\n",
       "       [193.5       , 194.        , 192.6000061 , 194.5       ,\n",
       "        194.19999695, 195.5       , 196.3999939 , 200.        ,\n",
       "        202.5       , 203.5       , 201.6000061 , 198.05000305,\n",
       "        199.8999939 , 198.6000061 , 197.        , 198.        ,\n",
       "        197.25      , 197.25      , 196.5       , 198.5       ,\n",
       "        194.6000061 , 199.        , 191.1000061 , 191.30000305,\n",
       "        191.3999939 , 190.        , 187.25      , 189.6000061 ,\n",
       "        185.5       , 184.1000061 , 184.8999939 , 185.80000305,\n",
       "        184.        , 181.8500061 , 180.80000305, 179.55000305,\n",
       "        180.        , 175.75      , 174.94999695, 171.69999695,\n",
       "        168.8999939 , 171.        , 174.75      , 170.        ,\n",
       "        174.5       , 171.1000061 , 169.5       , 170.        ,\n",
       "        170.1000061 , 167.5       , 170.5       , 172.8500061 ,\n",
       "        170.55000305, 167.69999695, 165.5       , 166.80000305,\n",
       "        168.        , 168.1499939 , 167.55000305, 168.94999695]])"
      ]
     },
     "execution_count": 108,
     "metadata": {},
     "output_type": "execute_result"
    }
   ],
   "source": [
    "X_test"
   ]
  },
  {
   "cell_type": "code",
   "execution_count": 109,
   "metadata": {},
   "outputs": [],
   "source": [
    "X_test = np.reshape(X_test, (X_test.shape[0], X_test.shape[1], 1))\n",
    "predicted_stock_price = regressor.predict(X_test)\n",
    "predicted_stock_price = sc.inverse_transform(predicted_stock_price)"
   ]
  },
  {
   "cell_type": "code",
   "execution_count": 110,
   "metadata": {},
   "outputs": [
    {
     "data": {
      "text/plain": [
       "array([[653.8073 ],\n",
       "       [653.81775],\n",
       "       [653.8271 ],\n",
       "       [653.8384 ],\n",
       "       [653.8388 ]], dtype=float32)"
      ]
     },
     "execution_count": 110,
     "metadata": {},
     "output_type": "execute_result"
    }
   ],
   "source": [
    "predicted_stock_price"
   ]
  },
  {
   "cell_type": "code",
   "execution_count": 83,
   "metadata": {},
   "outputs": [
    {
     "data": {
      "text/plain": [
       "Date\n",
       "2020-07-27    200.500000\n",
       "2020-07-28    197.000000\n",
       "2020-07-29    193.449997\n",
       "2020-07-30    198.399994\n",
       "2020-07-31    193.500000\n",
       "Name: Open, dtype: float64"
      ]
     },
     "execution_count": 83,
     "metadata": {},
     "output_type": "execute_result"
    }
   ],
   "source": [
    "week_df.head()"
   ]
  },
  {
   "cell_type": "code",
   "execution_count": 84,
   "metadata": {},
   "outputs": [
    {
     "data": {
      "text/plain": [
       "(65,)"
      ]
     },
     "execution_count": 84,
     "metadata": {},
     "output_type": "execute_result"
    }
   ],
   "source": [
    "week_df.shape"
   ]
  },
  {
   "cell_type": "code",
   "execution_count": 93,
   "metadata": {},
   "outputs": [
    {
     "data": {
      "text/html": [
       "<div>\n",
       "<style scoped>\n",
       "    .dataframe tbody tr th:only-of-type {\n",
       "        vertical-align: middle;\n",
       "    }\n",
       "\n",
       "    .dataframe tbody tr th {\n",
       "        vertical-align: top;\n",
       "    }\n",
       "\n",
       "    .dataframe thead th {\n",
       "        text-align: right;\n",
       "    }\n",
       "</style>\n",
       "<table border=\"1\" class=\"dataframe\">\n",
       "  <thead>\n",
       "    <tr style=\"text-align: right;\">\n",
       "      <th></th>\n",
       "      <th>Open</th>\n",
       "    </tr>\n",
       "  </thead>\n",
       "  <tbody>\n",
       "    <tr>\n",
       "      <th>0</th>\n",
       "      <td>653.807312</td>\n",
       "    </tr>\n",
       "    <tr>\n",
       "      <th>1</th>\n",
       "      <td>653.817749</td>\n",
       "    </tr>\n",
       "    <tr>\n",
       "      <th>2</th>\n",
       "      <td>653.827087</td>\n",
       "    </tr>\n",
       "    <tr>\n",
       "      <th>3</th>\n",
       "      <td>653.838379</td>\n",
       "    </tr>\n",
       "    <tr>\n",
       "      <th>4</th>\n",
       "      <td>653.838806</td>\n",
       "    </tr>\n",
       "  </tbody>\n",
       "</table>\n",
       "</div>"
      ],
      "text/plain": [
       "         Open\n",
       "0  653.807312\n",
       "1  653.817749\n",
       "2  653.827087\n",
       "3  653.838379\n",
       "4  653.838806"
      ]
     },
     "execution_count": 93,
     "metadata": {},
     "output_type": "execute_result"
    }
   ],
   "source": [
    "pred_df= pd.DataFrame(predicted_stock_price, columns=['Open'])\n",
    "pred_df.head()"
   ]
  },
  {
   "cell_type": "code",
   "execution_count": 86,
   "metadata": {},
   "outputs": [
    {
     "data": {
      "text/html": [
       "<div>\n",
       "<style scoped>\n",
       "    .dataframe tbody tr th:only-of-type {\n",
       "        vertical-align: middle;\n",
       "    }\n",
       "\n",
       "    .dataframe tbody tr th {\n",
       "        vertical-align: top;\n",
       "    }\n",
       "\n",
       "    .dataframe thead th {\n",
       "        text-align: right;\n",
       "    }\n",
       "</style>\n",
       "<table border=\"1\" class=\"dataframe\">\n",
       "  <thead>\n",
       "    <tr style=\"text-align: right;\">\n",
       "      <th></th>\n",
       "      <th>0</th>\n",
       "      <th>Open</th>\n",
       "    </tr>\n",
       "  </thead>\n",
       "  <tbody>\n",
       "    <tr>\n",
       "      <th>2020-07-27 00:00:00</th>\n",
       "      <td>200.500000</td>\n",
       "      <td>NaN</td>\n",
       "    </tr>\n",
       "    <tr>\n",
       "      <th>2020-07-28 00:00:00</th>\n",
       "      <td>197.000000</td>\n",
       "      <td>NaN</td>\n",
       "    </tr>\n",
       "    <tr>\n",
       "      <th>2020-07-29 00:00:00</th>\n",
       "      <td>193.449997</td>\n",
       "      <td>NaN</td>\n",
       "    </tr>\n",
       "    <tr>\n",
       "      <th>2020-07-30 00:00:00</th>\n",
       "      <td>198.399994</td>\n",
       "      <td>NaN</td>\n",
       "    </tr>\n",
       "    <tr>\n",
       "      <th>2020-07-31 00:00:00</th>\n",
       "      <td>193.500000</td>\n",
       "      <td>NaN</td>\n",
       "    </tr>\n",
       "    <tr>\n",
       "      <th>...</th>\n",
       "      <td>...</td>\n",
       "      <td>...</td>\n",
       "    </tr>\n",
       "    <tr>\n",
       "      <th>0</th>\n",
       "      <td>NaN</td>\n",
       "      <td>653.807312</td>\n",
       "    </tr>\n",
       "    <tr>\n",
       "      <th>1</th>\n",
       "      <td>NaN</td>\n",
       "      <td>653.817749</td>\n",
       "    </tr>\n",
       "    <tr>\n",
       "      <th>2</th>\n",
       "      <td>NaN</td>\n",
       "      <td>653.827087</td>\n",
       "    </tr>\n",
       "    <tr>\n",
       "      <th>3</th>\n",
       "      <td>NaN</td>\n",
       "      <td>653.838379</td>\n",
       "    </tr>\n",
       "    <tr>\n",
       "      <th>4</th>\n",
       "      <td>NaN</td>\n",
       "      <td>653.838806</td>\n",
       "    </tr>\n",
       "  </tbody>\n",
       "</table>\n",
       "<p>70 rows × 2 columns</p>\n",
       "</div>"
      ],
      "text/plain": [
       "                              0        Open\n",
       "2020-07-27 00:00:00  200.500000         NaN\n",
       "2020-07-28 00:00:00  197.000000         NaN\n",
       "2020-07-29 00:00:00  193.449997         NaN\n",
       "2020-07-30 00:00:00  198.399994         NaN\n",
       "2020-07-31 00:00:00  193.500000         NaN\n",
       "...                         ...         ...\n",
       "0                           NaN  653.807312\n",
       "1                           NaN  653.817749\n",
       "2                           NaN  653.827087\n",
       "3                           NaN  653.838379\n",
       "4                           NaN  653.838806\n",
       "\n",
       "[70 rows x 2 columns]"
      ]
     },
     "execution_count": 86,
     "metadata": {},
     "output_type": "execute_result"
    }
   ],
   "source": [
    "week_df.append(pred_df)"
   ]
  }
 ],
 "metadata": {
  "kernelspec": {
   "display_name": "Python 3.6.5 64-bit",
   "language": "python",
   "name": "python36564bit56f9f057e1644f70ad0d7cf032c4facb"
  },
  "language_info": {
   "codemirror_mode": {
    "name": "ipython",
    "version": 3
   },
   "file_extension": ".py",
   "mimetype": "text/x-python",
   "name": "python",
   "nbconvert_exporter": "python",
   "pygments_lexer": "ipython3",
   "version": "3.6.5"
  }
 },
 "nbformat": 4,
 "nbformat_minor": 4
}
