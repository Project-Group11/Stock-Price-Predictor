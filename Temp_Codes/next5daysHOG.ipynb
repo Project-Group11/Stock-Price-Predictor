{
 "cells": [
  {
   "cell_type": "code",
   "execution_count": 1,
   "metadata": {},
   "outputs": [],
   "source": [
    "import pickle\n",
    "import pandas as pd\n",
    "import numpy as np\n",
    "import matplotlib.pyplot as plt\n",
    "import yfinance as yf"
   ]
  },
  {
   "cell_type": "code",
   "execution_count": 2,
   "metadata": {},
   "outputs": [
    {
     "name": "stderr",
     "output_type": "stream",
     "text": [
      "Using TensorFlow backend.\n"
     ]
    }
   ],
   "source": [
    "Pkl_Filename = \"HOG.pkl\"\n",
    "sc_file= \"HOG_sc.pkl\"\n",
    "global sc\n",
    "with open(Pkl_Filename, 'rb') as file:  \n",
    "    regressor = pickle.load(file)\n",
    "\n",
    "with open(sc_file, 'rb') as file:  \n",
    "    sc = pickle.load(file)"
   ]
  },
  {
   "cell_type": "code",
   "execution_count": 3,
   "metadata": {},
   "outputs": [],
   "source": []
  },
  {
   "cell_type": "code",
   "execution_count": 177,
   "metadata": {},
   "outputs": [],
   "source": [
    "df = pd.read_csv(\"HOG.csv\",index_col=\"Date\",parse_dates=True)\n",
    "df= df[int(len(df)*(4/5)):]\n",
    "df= df[['Open']]\n",
    "# df=df[-60:]\n",
    "test_data= df\n",
    "# testing_df= sc.transform(testing_df)"
   ]
  },
  {
   "cell_type": "code",
   "execution_count": 178,
   "metadata": {},
   "outputs": [
    {
     "data": {
      "text/plain": [
       "504"
      ]
     },
     "execution_count": 178,
     "metadata": {},
     "output_type": "execute_result"
    }
   ],
   "source": [
    "len(test_data)"
   ]
  },
  {
   "cell_type": "code",
   "execution_count": 179,
   "metadata": {},
   "outputs": [],
   "source": [
    "x_input=test_data[-60:]\n",
    "x_input= sc.transform(x_input)"
   ]
  },
  {
   "cell_type": "code",
   "execution_count": 180,
   "metadata": {},
   "outputs": [],
   "source": [
    "# x_input.shape\n",
    "temp_input=list(x_input)\n",
    "# temp_input=temp_input[0].tolist()"
   ]
  },
  {
   "cell_type": "code",
   "execution_count": 181,
   "metadata": {},
   "outputs": [
    {
     "name": "stdout",
     "output_type": "stream",
     "text": [
      "[0.18740597]\n",
      "61\n",
      "1 day input [array([0.05651532]) array([0.06212099]) array([0.04877408])\n",
      " array([0.06025245]) array([0.10082716]) array([0.11203856])\n",
      " array([0.07546792]) array([0.10296267]) array([0.10403045])\n",
      " array([0.11283938]) array([0.10483123]) array([0.09789081])\n",
      " array([0.09762383]) array([0.10990306]) array([0.13019044])\n",
      " array([0.11364021]) array([0.10963614]) array([0.10830147])\n",
      " array([0.10936917]) array([0.08507775]) array([0.10776754])\n",
      " array([0.13499533]) array([0.11417411]) array([0.08160755])\n",
      " array([0.11471519]) array([0.13314712]) array([0.11605082])\n",
      " array([0.10349576]) array([0.1109754]) array([0.0847967])\n",
      " array([0.04793289]) array([0.04552873]) array([0.00652789])\n",
      " array([0.00465794]) array([-0.00495867]) array([-0.02472622])\n",
      " array([-0.03300727]) array([-0.01377393]) array([-0.0089656])\n",
      " array([-0.00923273]) array([0.01561024]) array([0.00358945])\n",
      " array([0.05754956]) array([0.08880368]) array([0.08372821])\n",
      " array([0.1109754]) array([0.13474988]) array([0.11017399])\n",
      " array([0.12433186]) array([0.11524946]) array([0.07998842])\n",
      " array([0.11685222]) array([0.12192769]) array([0.12246191])\n",
      " array([0.13181144]) array([0.13181144]) array([0.1478392])\n",
      " array([0.14356514]) array([0.21248452]) 0.18740597367286682]\n",
      "1 day output [[0.18964815]]\n",
      "2 day input [array([0.06212099]) array([0.04877408]) array([0.06025245])\n",
      " array([0.10082716]) array([0.11203856]) array([0.07546792])\n",
      " array([0.10296267]) array([0.10403045]) array([0.11283938])\n",
      " array([0.10483123]) array([0.09789081]) array([0.09762383])\n",
      " array([0.10990306]) array([0.13019044]) array([0.11364021])\n",
      " array([0.10963614]) array([0.10830147]) array([0.10936917])\n",
      " array([0.08507775]) array([0.10776754]) array([0.13499533])\n",
      " array([0.11417411]) array([0.08160755]) array([0.11471519])\n",
      " array([0.13314712]) array([0.11605082]) array([0.10349576])\n",
      " array([0.1109754]) array([0.0847967]) array([0.04793289])\n",
      " array([0.04552873]) array([0.00652789]) array([0.00465794])\n",
      " array([-0.00495867]) array([-0.02472622]) array([-0.03300727])\n",
      " array([-0.01377393]) array([-0.0089656]) array([-0.00923273])\n",
      " array([0.01561024]) array([0.00358945]) array([0.05754956])\n",
      " array([0.08880368]) array([0.08372821]) array([0.1109754])\n",
      " array([0.13474988]) array([0.11017399]) array([0.12433186])\n",
      " array([0.11524946]) array([0.07998842]) array([0.11685222])\n",
      " array([0.12192769]) array([0.12246191]) array([0.13181144])\n",
      " array([0.13181144]) array([0.1478392]) array([0.14356514])\n",
      " array([0.21248452]) 0.18740597367286682 0.18964815139770508]\n",
      "2 day output [[0.18789595]]\n",
      "3 day input [array([0.04877408]) array([0.06025245]) array([0.10082716])\n",
      " array([0.11203856]) array([0.07546792]) array([0.10296267])\n",
      " array([0.10403045]) array([0.11283938]) array([0.10483123])\n",
      " array([0.09789081]) array([0.09762383]) array([0.10990306])\n",
      " array([0.13019044]) array([0.11364021]) array([0.10963614])\n",
      " array([0.10830147]) array([0.10936917]) array([0.08507775])\n",
      " array([0.10776754]) array([0.13499533]) array([0.11417411])\n",
      " array([0.08160755]) array([0.11471519]) array([0.13314712])\n",
      " array([0.11605082]) array([0.10349576]) array([0.1109754])\n",
      " array([0.0847967]) array([0.04793289]) array([0.04552873])\n",
      " array([0.00652789]) array([0.00465794]) array([-0.00495867])\n",
      " array([-0.02472622]) array([-0.03300727]) array([-0.01377393])\n",
      " array([-0.0089656]) array([-0.00923273]) array([0.01561024])\n",
      " array([0.00358945]) array([0.05754956]) array([0.08880368])\n",
      " array([0.08372821]) array([0.1109754]) array([0.13474988])\n",
      " array([0.11017399]) array([0.12433186]) array([0.11524946])\n",
      " array([0.07998842]) array([0.11685222]) array([0.12192769])\n",
      " array([0.12246191]) array([0.13181144]) array([0.13181144])\n",
      " array([0.1478392]) array([0.14356514]) array([0.21248452])\n",
      " 0.18740597367286682 0.18964815139770508 0.18789595365524292]\n",
      "3 day output [[0.18539691]]\n",
      "4 day input [array([0.06025245]) array([0.10082716]) array([0.11203856])\n",
      " array([0.07546792]) array([0.10296267]) array([0.10403045])\n",
      " array([0.11283938]) array([0.10483123]) array([0.09789081])\n",
      " array([0.09762383]) array([0.10990306]) array([0.13019044])\n",
      " array([0.11364021]) array([0.10963614]) array([0.10830147])\n",
      " array([0.10936917]) array([0.08507775]) array([0.10776754])\n",
      " array([0.13499533]) array([0.11417411]) array([0.08160755])\n",
      " array([0.11471519]) array([0.13314712]) array([0.11605082])\n",
      " array([0.10349576]) array([0.1109754]) array([0.0847967])\n",
      " array([0.04793289]) array([0.04552873]) array([0.00652789])\n",
      " array([0.00465794]) array([-0.00495867]) array([-0.02472622])\n",
      " array([-0.03300727]) array([-0.01377393]) array([-0.0089656])\n",
      " array([-0.00923273]) array([0.01561024]) array([0.00358945])\n",
      " array([0.05754956]) array([0.08880368]) array([0.08372821])\n",
      " array([0.1109754]) array([0.13474988]) array([0.11017399])\n",
      " array([0.12433186]) array([0.11524946]) array([0.07998842])\n",
      " array([0.11685222]) array([0.12192769]) array([0.12246191])\n",
      " array([0.13181144]) array([0.13181144]) array([0.1478392])\n",
      " array([0.14356514]) array([0.21248452]) 0.18740597367286682\n",
      " 0.18964815139770508 0.18789595365524292 0.18539690971374512]\n",
      "4 day output [[0.18370703]]\n",
      "[[0.18740597367286682], [0.18964815139770508], [0.18789595365524292], [0.18539690971374512], [0.18370702862739563]]\n"
     ]
    },
    {
     "name": "stderr",
     "output_type": "stream",
     "text": [
      "C:\\Users\\Harman\\Anaconda3\\envs\\tensorflowenv\\lib\\site-packages\\ipykernel_launcher.py:9: VisibleDeprecationWarning: Creating an ndarray from ragged nested sequences (which is a list-or-tuple of lists-or-tuples-or ndarrays with different lengths or shapes) is deprecated. If you meant to do this, you must specify 'dtype=object' when creating the ndarray\n",
      "  if __name__ == '__main__':\n"
     ]
    }
   ],
   "source": [
    "train_days= 60\n",
    "df= df[['Open']]\n",
    "\n",
    "lst_output=[]\n",
    "n_steps=60\n",
    "i=0;\n",
    "while(i<5):\n",
    "    if(len(temp_input)>60):\n",
    "        x_input=np.array(temp_input[1:])\n",
    "#         print(\"{} day input {}\".format(i,x_input))\n",
    "        x_input=x_input.reshape(1,-1)\n",
    "        x_input=x_input.reshape((1,n_steps,1))\n",
    "        yhat=regressor.predict(x_input,verbose=0)\n",
    "#         print(\"{} day output {}\".format(i,yhat))\n",
    "        temp_input.extend(yhat[0].tolist())\n",
    "        temp_input=temp_input[1:]\n",
    "        lst_output.extend(yhat.tolist())\n",
    "        i=i+1\n",
    "    else:\n",
    "        x_input=x_input.reshape((1,n_steps,1))\n",
    "        yhat=regressor.predict(x_input,verbose=0)\n",
    "#         print(yhat[0])\n",
    "        temp_input.extend(yhat[0].tolist())\n",
    "#         print(len(temp_input))\n",
    "        lst_output.extend(yhat.tolist())\n",
    "        i=i+1\n",
    "\n",
    "print(lst_output)"
   ]
  },
  {
   "cell_type": "code",
   "execution_count": 182,
   "metadata": {},
   "outputs": [
    {
     "data": {
      "text/plain": [
       "5"
      ]
     },
     "execution_count": 182,
     "metadata": {},
     "output_type": "execute_result"
    }
   ],
   "source": [
    "len(lst_output)"
   ]
  },
  {
   "cell_type": "code",
   "execution_count": 183,
   "metadata": {},
   "outputs": [],
   "source": [
    "lst_output=lst_output[0:5]"
   ]
  },
  {
   "cell_type": "code",
   "execution_count": 184,
   "metadata": {},
   "outputs": [],
   "source": [
    "predicted_stock_price = lst_output"
   ]
  },
  {
   "cell_type": "code",
   "execution_count": 185,
   "metadata": {},
   "outputs": [],
   "source": [
    "predicted_stock_price = sc.inverse_transform(predicted_stock_price)"
   ]
  },
  {
   "cell_type": "code",
   "execution_count": 186,
   "metadata": {},
   "outputs": [],
   "source": [
    "predicted_stock_price=np.array(predicted_stock_price)"
   ]
  },
  {
   "cell_type": "code",
   "execution_count": 187,
   "metadata": {},
   "outputs": [],
   "source": [
    "df3=pd.DataFrame(predicted_stock_price)"
   ]
  },
  {
   "cell_type": "code",
   "execution_count": 188,
   "metadata": {},
   "outputs": [],
   "source": [
    "data=df[-1:]"
   ]
  },
  {
   "cell_type": "code",
   "execution_count": 189,
   "metadata": {},
   "outputs": [],
   "source": [
    "df2=pd.read_csv(\"HOG.csv\",parse_dates=True)\n",
    "s=df2.iloc[-1:,[0]]"
   ]
  },
  {
   "cell_type": "code",
   "execution_count": 190,
   "metadata": {},
   "outputs": [
    {
     "data": {
      "text/html": [
       "<div>\n",
       "<style scoped>\n",
       "    .dataframe tbody tr th:only-of-type {\n",
       "        vertical-align: middle;\n",
       "    }\n",
       "\n",
       "    .dataframe tbody tr th {\n",
       "        vertical-align: top;\n",
       "    }\n",
       "\n",
       "    .dataframe thead th {\n",
       "        text-align: right;\n",
       "    }\n",
       "</style>\n",
       "<table border=\"1\" class=\"dataframe\">\n",
       "  <thead>\n",
       "    <tr style=\"text-align: right;\">\n",
       "      <th></th>\n",
       "      <th>Date</th>\n",
       "    </tr>\n",
       "  </thead>\n",
       "  <tbody>\n",
       "    <tr>\n",
       "      <th>2516</th>\n",
       "      <td>2020-10-27</td>\n",
       "    </tr>\n",
       "  </tbody>\n",
       "</table>\n",
       "</div>"
      ],
      "text/plain": [
       "            Date\n",
       "2516  2020-10-27"
      ]
     },
     "execution_count": 190,
     "metadata": {},
     "output_type": "execute_result"
    }
   ],
   "source": [
    "s"
   ]
  },
  {
   "cell_type": "code",
   "execution_count": 191,
   "metadata": {},
   "outputs": [],
   "source": [
    "result=s.to_string(index=False)"
   ]
  },
  {
   "cell_type": "code",
   "execution_count": 192,
   "metadata": {},
   "outputs": [],
   "source": [
    "result=result[-10:]"
   ]
  },
  {
   "cell_type": "code",
   "execution_count": 193,
   "metadata": {},
   "outputs": [
    {
     "data": {
      "text/plain": [
       "'2020-10-27'"
      ]
     },
     "execution_count": 193,
     "metadata": {},
     "output_type": "execute_result"
    }
   ],
   "source": [
    "result"
   ]
  },
  {
   "cell_type": "code",
   "execution_count": 194,
   "metadata": {},
   "outputs": [
    {
     "data": {
      "text/plain": [
       "DatetimeIndex(['2020-10-28', '2020-10-29', '2020-10-30', '2020-10-31',\n",
       "               '2020-11-01'],\n",
       "              dtype='datetime64[ns]', freq='D')"
      ]
     },
     "execution_count": 194,
     "metadata": {},
     "output_type": "execute_result"
    }
   ],
   "source": [
    "index_ = pd.date_range(result, periods = 6, freq ='D')\n",
    "index_= index_[-5:]\n",
    "index_"
   ]
  },
  {
   "cell_type": "code",
   "execution_count": 195,
   "metadata": {},
   "outputs": [
    {
     "data": {
      "text/html": [
       "<div>\n",
       "<style scoped>\n",
       "    .dataframe tbody tr th:only-of-type {\n",
       "        vertical-align: middle;\n",
       "    }\n",
       "\n",
       "    .dataframe tbody tr th {\n",
       "        vertical-align: top;\n",
       "    }\n",
       "\n",
       "    .dataframe thead th {\n",
       "        text-align: right;\n",
       "    }\n",
       "</style>\n",
       "<table border=\"1\" class=\"dataframe\">\n",
       "  <thead>\n",
       "    <tr style=\"text-align: right;\">\n",
       "      <th></th>\n",
       "      <th>0</th>\n",
       "    </tr>\n",
       "  </thead>\n",
       "  <tbody>\n",
       "    <tr>\n",
       "      <th>0</th>\n",
       "      <td>31.141185</td>\n",
       "    </tr>\n",
       "    <tr>\n",
       "      <th>1</th>\n",
       "      <td>31.225121</td>\n",
       "    </tr>\n",
       "    <tr>\n",
       "      <th>2</th>\n",
       "      <td>31.159527</td>\n",
       "    </tr>\n",
       "    <tr>\n",
       "      <th>3</th>\n",
       "      <td>31.065975</td>\n",
       "    </tr>\n",
       "    <tr>\n",
       "      <th>4</th>\n",
       "      <td>31.002715</td>\n",
       "    </tr>\n",
       "  </tbody>\n",
       "</table>\n",
       "</div>"
      ],
      "text/plain": [
       "           0\n",
       "0  31.141185\n",
       "1  31.225121\n",
       "2  31.159527\n",
       "3  31.065975\n",
       "4  31.002715"
      ]
     },
     "execution_count": 195,
     "metadata": {},
     "output_type": "execute_result"
    }
   ],
   "source": [
    "df3"
   ]
  },
  {
   "cell_type": "code",
   "execution_count": 196,
   "metadata": {},
   "outputs": [],
   "source": [
    "df3.set_index(index_,inplace=True, drop = False)"
   ]
  },
  {
   "cell_type": "code",
   "execution_count": 197,
   "metadata": {},
   "outputs": [
    {
     "data": {
      "text/html": [
       "<div>\n",
       "<style scoped>\n",
       "    .dataframe tbody tr th:only-of-type {\n",
       "        vertical-align: middle;\n",
       "    }\n",
       "\n",
       "    .dataframe tbody tr th {\n",
       "        vertical-align: top;\n",
       "    }\n",
       "\n",
       "    .dataframe thead th {\n",
       "        text-align: right;\n",
       "    }\n",
       "</style>\n",
       "<table border=\"1\" class=\"dataframe\">\n",
       "  <thead>\n",
       "    <tr style=\"text-align: right;\">\n",
       "      <th></th>\n",
       "      <th>0</th>\n",
       "    </tr>\n",
       "  </thead>\n",
       "  <tbody>\n",
       "    <tr>\n",
       "      <th>2020-10-28</th>\n",
       "      <td>31.141185</td>\n",
       "    </tr>\n",
       "    <tr>\n",
       "      <th>2020-10-29</th>\n",
       "      <td>31.225121</td>\n",
       "    </tr>\n",
       "    <tr>\n",
       "      <th>2020-10-30</th>\n",
       "      <td>31.159527</td>\n",
       "    </tr>\n",
       "    <tr>\n",
       "      <th>2020-10-31</th>\n",
       "      <td>31.065975</td>\n",
       "    </tr>\n",
       "    <tr>\n",
       "      <th>2020-11-01</th>\n",
       "      <td>31.002715</td>\n",
       "    </tr>\n",
       "  </tbody>\n",
       "</table>\n",
       "</div>"
      ],
      "text/plain": [
       "                    0\n",
       "2020-10-28  31.141185\n",
       "2020-10-29  31.225121\n",
       "2020-10-30  31.159527\n",
       "2020-10-31  31.065975\n",
       "2020-11-01  31.002715"
      ]
     },
     "execution_count": 197,
     "metadata": {},
     "output_type": "execute_result"
    }
   ],
   "source": [
    "df3"
   ]
  },
  {
   "cell_type": "code",
   "execution_count": 198,
   "metadata": {},
   "outputs": [
    {
     "data": {
      "text/plain": [
       "[<matplotlib.lines.Line2D at 0x21693e19848>]"
      ]
     },
     "execution_count": 198,
     "metadata": {},
     "output_type": "execute_result"
    },
    {
     "data": {
      "image/png": "[encoded data removed]",
      "text/plain": [
       "<Figure size 720x360 with 1 Axes>"
      ]
     },
     "metadata": {
      "needs_background": "light"
     },
     "output_type": "display_data"
    }
   ],
   "source": [
    "plt.figure(figsize=(10,5))\n",
    "plt.plot(df3)\n",
    "plt.plot(df)"
   ]
  },
  {
   "cell_type": "code",
   "execution_count": 199,
   "metadata": {},
   "outputs": [
    {
     "data": {
      "text/plain": [
       "[<matplotlib.lines.Line2D at 0x21693e43908>]"
      ]
     },
     "execution_count": 199,
     "metadata": {},
     "output_type": "execute_result"
    },
    {
     "data": {
      "image/png": "[encoded data removed]",
      "text/plain": [
       "<Figure size 432x288 with 1 Axes>"
      ]
     },
     "metadata": {
      "needs_background": "light"
     },
     "output_type": "display_data"
    }
   ],
   "source": [
    "plt.plot(df3)"
   ]
  },
  {
   "cell_type": "code",
   "execution_count": null,
   "metadata": {},
   "outputs": [],
   "source": []
  }
 ],
 "metadata": {
  "kernelspec": {
   "display_name": "Python 3",
   "language": "python",
   "name": "python3"
  },
  "language_info": {
   "codemirror_mode": {
    "name": "ipython",
    "version": 3
   },
   "file_extension": ".py",
   "mimetype": "text/x-python",
   "name": "python",
   "nbconvert_exporter": "python",
   "pygments_lexer": "ipython3",
   "version": "3.7.9"
  }
 },
 "nbformat": 4,
 "nbformat_minor": 4
}
